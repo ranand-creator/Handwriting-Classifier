{
 "metadata": {
  "language_info": {
   "codemirror_mode": {
    "name": "ipython",
    "version": 3
   },
   "file_extension": ".py",
   "mimetype": "text/x-python",
   "name": "python",
   "nbconvert_exporter": "python",
   "pygments_lexer": "ipython3",
   "version": "3.8.8-final"
  },
  "orig_nbformat": 2,
  "kernelspec": {
   "name": "python3",
   "display_name": "Python 3.8.8 64-bit",
   "metadata": {
    "interpreter": {
     "hash": "528f91718a595ef98a076eace33224ec3784920e969df844058926bd29f41db7"
    }
   }
  }
 },
 "nbformat": 4,
 "nbformat_minor": 2,
 "cells": [
  {
   "cell_type": "code",
   "execution_count": 3,
   "metadata": {},
   "outputs": [],
   "source": [
    "import tensorflow as tf\n",
    "import os\n",
    "import numpy as np\n",
    "import pickle\n",
    "np.random.seed(42)\n",
    "%matplotlib inline\n",
    "import matplotlib.pyplot as plt"
   ]
  },
  {
   "cell_type": "code",
   "execution_count": 26,
   "metadata": {},
   "outputs": [
    {
     "output_type": "stream",
     "name": "stdout",
     "text": [
      "(2, 84, 84)\n"
     ]
    }
   ],
   "source": [
    "f = open('Test_Pickles\\\\num.pkl', 'rb')\n",
    "images = pickle.load(f)\n",
    "f.close()\n",
    "print(images.shape)"
   ]
  },
  {
   "cell_type": "code",
   "execution_count": 32,
   "metadata": {},
   "outputs": [
    {
     "output_type": "stream",
     "name": "stdout",
     "text": [
      "(84, 84)\n(84, 84)\n"
     ]
    },
    {
     "output_type": "display_data",
     "data": {
      "text/plain": "<Figure size 1008x216 with 2 Axes>",
      "image/svg+xml": "<?xml version=\"1.0\" encoding=\"utf-8\" standalone=\"no\"?>\r\n<!DOCTYPE svg PUBLIC \"-//W3C//DTD SVG 1.1//EN\"\r\n  \"http://www.w3.org/Graphics/SVG/1.1/DTD/svg11.dtd\">\r\n<!-- Created with matplotlib (https://matplotlib.org/) -->\r\n<svg height=\"84.10339pt\" version=\"1.1\" viewBox=\"0 0 163.547458 84.10339\" width=\"163.547458pt\" xmlns=\"http://www.w3.org/2000/svg\" xmlns:xlink=\"http://www.w3.org/1999/xlink\">\r\n <metadata>\r\n  <rdf:RDF xmlns:cc=\"http://creativecommons.org/ns#\" xmlns:dc=\"http://purl.org/dc/elements/1.1/\" xmlns:rdf=\"http://www.w3.org/1999/02/22-rdf-syntax-ns#\">\r\n   <cc:Work>\r\n    <dc:type rdf:resource=\"http://purl.org/dc/dcmitype/StillImage\"/>\r\n    <dc:date>2021-03-23T22:59:37.199907</dc:date>\r\n    <dc:format>image/svg+xml</dc:format>\r\n    <dc:creator>\r\n     <cc:Agent>\r\n      <dc:title>Matplotlib v3.3.4, https://matplotlib.org/</dc:title>\r\n     </cc:Agent>\r\n    </dc:creator>\r\n   </cc:Work>\r\n  </rdf:RDF>\r\n </metadata>\r\n <defs>\r\n  <style type=\"text/css\">*{stroke-linecap:butt;stroke-linejoin:round;}</style>\r\n </defs>\r\n <g id=\"figure_1\">\r\n  <g id=\"patch_1\">\r\n   <path d=\"M 0 84.10339 \r\nL 163.547458 84.10339 \r\nL 163.547458 -0 \r\nL 0 -0 \r\nz\r\n\" style=\"fill:none;\"/>\r\n  </g>\r\n  <g id=\"axes_1\">\r\n   <g id=\"patch_2\">\r\n    <path d=\"M 10.7 73.40339 \r\nL 76.90339 73.40339 \r\nL 76.90339 7.2 \r\nL 10.7 7.2 \r\nz\r\n\" style=\"fill:#ffffff;\"/>\r\n   </g>\r\n   <g clip-path=\"url(#p8c8122d801)\">\r\n    <image height=\"67\" id=\"image2e81609c36\" transform=\"scale(1 -1)translate(0 -67)\" width=\"67\" x=\"10.7\" xlink:href=\"data:image/png;base64,\r\niVBORw0KGgoAAAANSUhEUgAAAEMAAABDCAYAAADHyrhzAAABT0lEQVR4nO3awY7CMAxFUQfx/79sVkiPKmpRYydOdc9mdoBunLRlaGbmBjMze63+AJUQQxBDEEMQQxBDEEMQQxBDEENsFcM998mh2QbPJscIrbWU99lqMrKVj9HbGlnbpXyMHrbJBMQQxBDEEMQQxBDEEMQQ7+gX7N0d3r1Jyn4wOwqLcfbBIwNlCntqnb2KKirsI84Mdw9ZjJAYK6ci0iMm42t0UcKvJl9X+zhjmkbPjrQYV+7Gaq2lXZ222yaZl+nhGLMPz8z7k5KTcbZFjn8j45SM8Y+MCdk2RgZiiG1izHiw2ybGDMQQQzGuLoG7YTJEuRgrvxUrF2Ol2zGedl6YMRk/iCGIIUJjjJ4Xq79YZjJEqRi9yZp5dSoVY+Yv+3rCYkSsIJNRyPA/nt09fPUyXvMfW/x2fBa2iSCGIIYghiCGIIYghiCGIIYghvgAiXxWi3+jyxwAAAAASUVORK5CYII=\" y=\"-6.40339\"/>\r\n   </g>\r\n   <g id=\"matplotlib.axis_1\"/>\r\n   <g id=\"matplotlib.axis_2\"/>\r\n   <g id=\"patch_3\">\r\n    <path d=\"M 10.7 73.40339 \r\nL 10.7 7.2 \r\n\" style=\"fill:none;stroke:#000000;stroke-linecap:square;stroke-linejoin:miter;stroke-width:0.8;\"/>\r\n   </g>\r\n   <g id=\"patch_4\">\r\n    <path d=\"M 76.90339 73.40339 \r\nL 76.90339 7.2 \r\n\" style=\"fill:none;stroke:#000000;stroke-linecap:square;stroke-linejoin:miter;stroke-width:0.8;\"/>\r\n   </g>\r\n   <g id=\"patch_5\">\r\n    <path d=\"M 10.7 73.40339 \r\nL 76.90339 73.40339 \r\n\" style=\"fill:none;stroke:#000000;stroke-linecap:square;stroke-linejoin:miter;stroke-width:0.8;\"/>\r\n   </g>\r\n   <g id=\"patch_6\">\r\n    <path d=\"M 10.7 7.2 \r\nL 76.90339 7.2 \r\n\" style=\"fill:none;stroke:#000000;stroke-linecap:square;stroke-linejoin:miter;stroke-width:0.8;\"/>\r\n   </g>\r\n  </g>\r\n  <g id=\"axes_2\">\r\n   <g id=\"patch_7\">\r\n    <path d=\"M 90.144068 73.40339 \r\nL 156.347458 73.40339 \r\nL 156.347458 7.2 \r\nL 90.144068 7.2 \r\nz\r\n\" style=\"fill:#ffffff;\"/>\r\n   </g>\r\n   <g clip-path=\"url(#pcafc24ac57)\">\r\n    <image height=\"67\" id=\"image86d6f2d282\" transform=\"scale(1 -1)translate(0 -67)\" width=\"67\" x=\"90.144068\" xlink:href=\"data:image/png;base64,\r\niVBORw0KGgoAAAANSUhEUgAAAEMAAABDCAYAAADHyrhzAAABbElEQVR4nO2awQ6CMBBEp8b//2U8mYxYsMrO0sV5JxIT2z632wFsABYYAMDt7AnMhGUQlkFYBmEZhGUQlkFYBmEZxD1roGUZD7qtNeFMdsaFMI5/I6BHthSZjKMimCwpkp4RKULxfVuEV4Z64soqkWyTESG9RY2KVAlJO02Az4t4fp61Ld7Gh7iB/vor7glRVYb0aI1iS0y0FCdQorSM6N5SQkbp0FUVyyBKyMjKHSVkbPF3R2tWxgCS4/hZMXsUiQxedGstXEKJG7XeomevBiasZ6Q9gBEGsNSecYSMFDq9jMyHwnIZ6wZ61muAEVIqY2YBjDR0VZHwZPoEmollEJZBWAZhGUSIjF4Ur3aSAK6MFyyDsAwiREbF/tBD1kArIrtROyKI73TX10pC3sJnV4ZKihsocVjGVfoFECDjKicJMOk2YcHr63L/9qvKlJVxFpZBWAZhGYRlEJZBWAZhGYRlEJZBWAZhGYRlEA917mCYvVqWawAAAABJRU5ErkJggg==\" y=\"-6.40339\"/>\r\n   </g>\r\n   <g id=\"matplotlib.axis_3\"/>\r\n   <g id=\"matplotlib.axis_4\"/>\r\n   <g id=\"patch_8\">\r\n    <path d=\"M 90.144068 73.40339 \r\nL 90.144068 7.2 \r\n\" style=\"fill:none;stroke:#000000;stroke-linecap:square;stroke-linejoin:miter;stroke-width:0.8;\"/>\r\n   </g>\r\n   <g id=\"patch_9\">\r\n    <path d=\"M 156.347458 73.40339 \r\nL 156.347458 7.2 \r\n\" style=\"fill:none;stroke:#000000;stroke-linecap:square;stroke-linejoin:miter;stroke-width:0.8;\"/>\r\n   </g>\r\n   <g id=\"patch_10\">\r\n    <path d=\"M 90.144068 73.40339 \r\nL 156.347458 73.40339 \r\n\" style=\"fill:none;stroke:#000000;stroke-linecap:square;stroke-linejoin:miter;stroke-width:0.8;\"/>\r\n   </g>\r\n   <g id=\"patch_11\">\r\n    <path d=\"M 90.144068 7.2 \r\nL 156.347458 7.2 \r\n\" style=\"fill:none;stroke:#000000;stroke-linecap:square;stroke-linejoin:miter;stroke-width:0.8;\"/>\r\n   </g>\r\n  </g>\r\n </g>\r\n <defs>\r\n  <clipPath id=\"p8c8122d801\">\r\n   <rect height=\"66.20339\" width=\"66.20339\" x=\"10.7\" y=\"7.2\"/>\r\n  </clipPath>\r\n  <clipPath id=\"pcafc24ac57\">\r\n   <rect height=\"66.20339\" width=\"66.20339\" x=\"90.144068\" y=\"7.2\"/>\r\n  </clipPath>\r\n </defs>\r\n</svg>\r\n",
      "image/png": "[encoded data removed]"
     },
     "metadata": {}
    }
   ],
   "source": [
    "plt.figure(1, figsize=(14,3))\n",
    "for i in range(2):\n",
    "    plt.subplot(1,10,i+1)\n",
    "    plt.imshow(images[i], cmap='gray', interpolation='nearest')\n",
    "    plt.xticks([])\n",
    "    plt.yticks([])\n",
    "    print(images[i].shape)"
   ]
  },
  {
   "cell_type": "code",
   "execution_count": 82,
   "metadata": {},
   "outputs": [
    {
     "output_type": "stream",
     "name": "stdout",
     "text": [
      "(2, 84, 84)\n(2, 28, 28)\n"
     ]
    }
   ],
   "source": [
    "print(images.shape)\n",
    "tmp_imgs = images.reshape(84, 84, 2)\n",
    "new_images = np.array(tf.image.resize(\n",
    "    tmp_imgs,(28,28), method='bilinear', preserve_aspect_ratio=False,\n",
    "    antialias=True\n",
    ")).reshape(2, 28, 28)\n",
    "print(new_images.shape)"
   ]
  },
  {
   "cell_type": "code",
   "execution_count": 83,
   "metadata": {},
   "outputs": [
    {
     "output_type": "execute_result",
     "data": {
      "text/plain": [
       "(2, 28, 28)"
      ]
     },
     "metadata": {},
     "execution_count": 83
    }
   ],
   "source": [
    "new_images.shape"
   ]
  },
  {
   "cell_type": "code",
   "execution_count": 84,
   "metadata": {},
   "outputs": [
    {
     "output_type": "stream",
     "name": "stdout",
     "text": [
      "(28, 28)\n(28, 28)\n"
     ]
    },
    {
     "output_type": "display_data",
     "data": {
      "text/plain": "<Figure size 1008x216 with 2 Axes>",
      "image/svg+xml": "<?xml version=\"1.0\" encoding=\"utf-8\" standalone=\"no\"?>\r\n<!DOCTYPE svg PUBLIC \"-//W3C//DTD SVG 1.1//EN\"\r\n  \"http://www.w3.org/Graphics/SVG/1.1/DTD/svg11.dtd\">\r\n<!-- Created with matplotlib (https://matplotlib.org/) -->\r\n<svg height=\"84.10339pt\" version=\"1.1\" viewBox=\"0 0 163.547458 84.10339\" width=\"163.547458pt\" xmlns=\"http://www.w3.org/2000/svg\" xmlns:xlink=\"http://www.w3.org/1999/xlink\">\r\n <metadata>\r\n  <rdf:RDF xmlns:cc=\"http://creativecommons.org/ns#\" xmlns:dc=\"http://purl.org/dc/elements/1.1/\" xmlns:rdf=\"http://www.w3.org/1999/02/22-rdf-syntax-ns#\">\r\n   <cc:Work>\r\n    <dc:type rdf:resource=\"http://purl.org/dc/dcmitype/StillImage\"/>\r\n    <dc:date>2021-03-23T23:13:42.320756</dc:date>\r\n    <dc:format>image/svg+xml</dc:format>\r\n    <dc:creator>\r\n     <cc:Agent>\r\n      <dc:title>Matplotlib v3.3.4, https://matplotlib.org/</dc:title>\r\n     </cc:Agent>\r\n    </dc:creator>\r\n   </cc:Work>\r\n  </rdf:RDF>\r\n </metadata>\r\n <defs>\r\n  <style type=\"text/css\">*{stroke-linecap:butt;stroke-linejoin:round;}</style>\r\n </defs>\r\n <g id=\"figure_1\">\r\n  <g id=\"patch_1\">\r\n   <path d=\"M 0 84.10339 \r\nL 163.547458 84.10339 \r\nL 163.547458 -0 \r\nL 0 -0 \r\nz\r\n\" style=\"fill:none;\"/>\r\n  </g>\r\n  <g id=\"axes_1\">\r\n   <g id=\"patch_2\">\r\n    <path d=\"M 10.7 73.40339 \r\nL 76.90339 73.40339 \r\nL 76.90339 7.2 \r\nL 10.7 7.2 \r\nz\r\n\" style=\"fill:#ffffff;\"/>\r\n   </g>\r\n   <g clip-path=\"url(#p537826a7b0)\">\r\n    <image height=\"67\" id=\"image324970a439\" transform=\"scale(1 -1)translate(0 -67)\" width=\"67\" x=\"10.7\" xlink:href=\"data:image/png;base64,\r\niVBORw0KGgoAAAANSUhEUgAAAEMAAABDCAYAAADHyrhzAAADUUlEQVR4nO2by0ojQRSGP0fRKCheAoKgKC4EF6JbcRnwOdz6Gj6DzyHoSnAtuHKloIguBG8oeMErysxiONV/p3uS7iZNMnC+TSqnYnU4/ddfVadjF/AbB4Bf7f4CnYQnQ/BkCJ4MwZMheDIET4bgyRA8GUJPu7/Av1hcXAztgYEBAMbGxgA4OTkJfaenpy27pitD6FhlVKvV0DZFTE5OJj7nyiiJjlXG2tpaaPf398f6Xl9fS7mmK0PwZAgdO00a8fHxUcq4rgyhJcro7u4GYHh4OBF7eXkB4OvrK/T9/Pw0HUtNs6+vD4DPz08A3t7eWvCtk7gyBE+GUHiamJwBent7Y68APT1/hzaJK/f397H37+/vma6Z9XNFcWUIhZUxOzubaG9sbISYmenV1RUQGSlERmg8PDyE9sTEBADz8/MhNj4+DsDt7S0QN9fn52cAnp6eQuzg4ABobNRpuDKEwsqwOwgwPT0NwODgYIiZf9hJU73j7Oys6fhWw1BsSZ2amgqxoaGh2CvA/v5+0/HTcGUIngyh8DSZmZkJ7ZWVFSBukmZ2m5ubib9dXl6OvddCzsjICBBfpq1tpqrGuLq6CsRNeGtrC4jverPgyhAKK8NKcRAtdbqZsrtnd0zNtd7gRkdHQ7tSqQDxgrAtz6YaLQjb+Ofn5yGWVxGGK0PwZAiFp8nS0lIipkfrnZ0dAPb29pqOpbvZhYUFAC4vL0PMdrPr6+tA/Ixiu00176K4MoTCyqivWJeJmfH19TUANzc3oc8UUX/eKYIrQ8itjDRF2Kbp8PAwxPKU5swnIPIHXYqPj48BODo6AuDu7i705T2ZNsKVIXgyhNzTJO1orbvR/xlXhpBZGWacpgw9aVpMzxx6imyGnlBrtRoQmSZEy6YZZytNU3FlCJmVUe8V+vTMllE9LdY/DsgzdrtwZQieDCH3NJmbmwPiT9Ss7+LiIsTyGKj+VsuM2go6EBVzyjJOw5Uh5N502Q9F0kprWlP4/v7OPGbar/jaYaquDMGTIWSeJraXsF3g7u5uou/x8TERy8L29nZom0GnVcDLxpUh5FaGLW9656ytasjz7ELHahQrG1eG0IX/k2/AlSF4MgRPhuDJEDwZgidD8GQIngzBkyH8AT8tGYSHZX2EAAAAAElFTkSuQmCC\" y=\"-6.40339\"/>\r\n   </g>\r\n   <g id=\"matplotlib.axis_1\"/>\r\n   <g id=\"matplotlib.axis_2\"/>\r\n   <g id=\"patch_3\">\r\n    <path d=\"M 10.7 73.40339 \r\nL 10.7 7.2 \r\n\" style=\"fill:none;stroke:#000000;stroke-linecap:square;stroke-linejoin:miter;stroke-width:0.8;\"/>\r\n   </g>\r\n   <g id=\"patch_4\">\r\n    <path d=\"M 76.90339 73.40339 \r\nL 76.90339 7.2 \r\n\" style=\"fill:none;stroke:#000000;stroke-linecap:square;stroke-linejoin:miter;stroke-width:0.8;\"/>\r\n   </g>\r\n   <g id=\"patch_5\">\r\n    <path d=\"M 10.7 73.40339 \r\nL 76.90339 73.40339 \r\n\" style=\"fill:none;stroke:#000000;stroke-linecap:square;stroke-linejoin:miter;stroke-width:0.8;\"/>\r\n   </g>\r\n   <g id=\"patch_6\">\r\n    <path d=\"M 10.7 7.2 \r\nL 76.90339 7.2 \r\n\" style=\"fill:none;stroke:#000000;stroke-linecap:square;stroke-linejoin:miter;stroke-width:0.8;\"/>\r\n   </g>\r\n  </g>\r\n  <g id=\"axes_2\">\r\n   <g id=\"patch_7\">\r\n    <path d=\"M 90.144068 73.40339 \r\nL 156.347458 73.40339 \r\nL 156.347458 7.2 \r\nL 90.144068 7.2 \r\nz\r\n\" style=\"fill:#ffffff;\"/>\r\n   </g>\r\n   <g clip-path=\"url(#pb554fe101f)\">\r\n    <image height=\"67\" id=\"image48e368d0e1\" transform=\"scale(1 -1)translate(0 -67)\" width=\"67\" x=\"90.144068\" xlink:href=\"data:image/png;base64,\r\niVBORw0KGgoAAAANSUhEUgAAAEMAAABDCAYAAADHyrhzAAADhUlEQVR4nO2buy5tURSGP8ddXEKIWxAFIZHQUChoPIFn0IsnUeiUHkGn1ohEoUE0QiUucYt75JzmjLn+ZW2Os8yFYnzNnnuMvS7G+udYc445lQG/cQD49d038JPwYAgeDMGDIVQUfYHy8vKMraOjI/X98fExtO/u7lKfX4krQyhcGdXV1QDU1dUF22u12G8UVcvLy0tBd5fGlSF4MIQo3cRkPzMzE2xdXV0AzM7OAlBfXx98o6OjqeNvbm5C+/DwEIDV1dVg29/fB2B9fR2A6+vr4IvZhVwZQhRl2NNpa2sLNnt9dnZ2AtDc3Bx8pgRLkrW1tcFn5xgYGMhcx5TR2NgYbBcXF5//A/7iyhCiKKOqqgqAnp6eYGtqagJga2sr83t7woYeZ8zPz4f28/MzkKhlY2Mj+FZWVoA4ucOVIXgwhCjd5OnpCYC9vb2MzxKijih3d3cBuLq6AuD29jZznL1iAVpbW4EkcercxkavMUasrgyhjB9a9tMB3Pj4OABzc3MAVFQkgp6cnATSyjg7O8t1TVeG4MEQCp/C50WLO+fn50AynqmsrAw+mxeVKiL9L64MIbcyPlLOe8s2PDz8z/NPTEyE9uDgIJC8wg8ODoIvZpnQlSFEzRn9/f2hXVNTAyTlPp1pfoS+vr6M7ejoCEgPyEwR+mrNiytD8GAIubuJJkZLiEtLS8Fm84mHh4fMsS0tLf88v81fIOkKy8vLb/pi4MoQoiZQXRsxZWxubgJJgVht7yU9feKnp6dAogj7HhtXhuDBEHJ3k5GRkdC2Ak5DQ0OwbW9vA7CwsADAyclJ8NlI8j1KTcOLXox2ZQhRE2ipcpsp4v7+PtiOj4/f/P134soQcitDV89s3UP7tD39y8tLIH8p7itxZQgeDMGDIXgwhCiv1unpaSBddLF5in329vZ++jpFD8RcGUJuZegM1RQxNTWVsVmtQ8t+tj5q25HUZzbdqmT+11sZwJVRGB4MIXc30b1UNhrt7u4OtqGhIaB0lTsvi4uLQDpRr62tRTu/K0PIrYyxsbHQts0musr2OrFZGRCS5GuvSvWZTUt7prydnZ28t/shXBmCB0PIvXNHN7m2t7cD6R01lkx1jeOz+Aj0C8mtDB2Bvp6HKPbk9H9KLNHauon6zKZFY9ukUkoZvpG+IH7sbr/vwJUheDAED4bgwRA8GIIHQ/BgCB4MwYMh/AFd4jOoml8tYQAAAABJRU5ErkJggg==\" y=\"-6.40339\"/>\r\n   </g>\r\n   <g id=\"matplotlib.axis_3\"/>\r\n   <g id=\"matplotlib.axis_4\"/>\r\n   <g id=\"patch_8\">\r\n    <path d=\"M 90.144068 73.40339 \r\nL 90.144068 7.2 \r\n\" style=\"fill:none;stroke:#000000;stroke-linecap:square;stroke-linejoin:miter;stroke-width:0.8;\"/>\r\n   </g>\r\n   <g id=\"patch_9\">\r\n    <path d=\"M 156.347458 73.40339 \r\nL 156.347458 7.2 \r\n\" style=\"fill:none;stroke:#000000;stroke-linecap:square;stroke-linejoin:miter;stroke-width:0.8;\"/>\r\n   </g>\r\n   <g id=\"patch_10\">\r\n    <path d=\"M 90.144068 73.40339 \r\nL 156.347458 73.40339 \r\n\" style=\"fill:none;stroke:#000000;stroke-linecap:square;stroke-linejoin:miter;stroke-width:0.8;\"/>\r\n   </g>\r\n   <g id=\"patch_11\">\r\n    <path d=\"M 90.144068 7.2 \r\nL 156.347458 7.2 \r\n\" style=\"fill:none;stroke:#000000;stroke-linecap:square;stroke-linejoin:miter;stroke-width:0.8;\"/>\r\n   </g>\r\n  </g>\r\n </g>\r\n <defs>\r\n  <clipPath id=\"p537826a7b0\">\r\n   <rect height=\"66.20339\" width=\"66.20339\" x=\"10.7\" y=\"7.2\"/>\r\n  </clipPath>\r\n  <clipPath id=\"pb554fe101f\">\r\n   <rect height=\"66.20339\" width=\"66.20339\" x=\"90.144068\" y=\"7.2\"/>\r\n  </clipPath>\r\n </defs>\r\n</svg>\r\n",
      "image/png": "[encoded data removed]"
     },
     "metadata": {}
    }
   ],
   "source": [
    "plt.figure(1, figsize=(14,3))\n",
    "for i in range(2):\n",
    "    plt.subplot(1,10,i+1)\n",
    "    plt.imshow(new_images[i], cmap='gray', interpolation='nearest')\n",
    "    plt.xticks([])\n",
    "    plt.yticks([])\n",
    "    print(new_images[i].shape)"
   ]
  },
  {
   "cell_type": "code",
   "execution_count": null,
   "metadata": {},
   "outputs": [],
   "source": [
    "new_images = new_images / 255.0"
   ]
  },
  {
   "cell_type": "code",
   "execution_count": 98,
   "metadata": {},
   "outputs": [
    {
     "output_type": "stream",
     "name": "stdout",
     "text": [
      "WARNING:tensorflow:10 out of the last 11 calls to <function Model.make_predict_function.<locals>.predict_function at 0x0000020DC1BD95E0> triggered tf.function retracing. Tracing is expensive and the excessive number of tracings could be due to (1) creating @tf.function repeatedly in a loop, (2) passing tensors with different shapes, (3) passing Python objects instead of tensors. For (1), please define your @tf.function outside of the loop. For (2), @tf.function has experimental_relax_shapes=True option that relaxes argument shapes that can avoid unnecessary retracing. For (3), please refer to https://www.tensorflow.org/guide/function#controlling_retracing and https://www.tensorflow.org/api_docs/python/tf/function for  more details.\n",
      "First: 4\n",
      "Second: 5\n"
     ]
    }
   ],
   "source": [
    "model = tf.keras.models.load_model('./')\n",
    "predictions = model.predict(new_images.reshape((2,784)))\n",
    "labels = np.zeros_like(predictions)\n",
    "labels[np.arange(len(predictions)), predictions.argmax(1)] = 1\n",
    "print('First:', np.where(labels[0] == 1)[0][0])\n",
    "print('Second:', np.where(labels[1] == 1)[0][0])"
   ]
  }
 ]
}