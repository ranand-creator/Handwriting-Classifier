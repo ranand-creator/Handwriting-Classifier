{
  "nbformat": 4,
  "nbformat_minor": 0,
  "metadata": {
    "colab": {
      "name": "Image Classifier TF",
      "provenance": [],
      "collapsed_sections": []
    },
    "kernelspec": {
      "name": "python3",
      "display_name": "Python 3",
      "language": "python"
    },
    "language_info": {
      "name": "python",
      "version": "3.8.8-final"
    }
  },
  "cells": [
    {
      "cell_type": "code",
      "metadata": {
        "colab": {
          "base_uri": "https://localhost:8080/"
        },
        "id": "NgVoda4-yQRn",
        "outputId": "cb5517b1-fd2e-45f0-ff4b-b45d8d4fa39a"
      },
      "source": [
        "# Import the necessary libraries\n",
        "import tensorflow as tf\n",
        "import os\n",
        "import numpy as np\n",
        "np.random.seed(42)\n",
        "%matplotlib inline\n",
        "import matplotlib.pyplot as plt\n",
        "from sklearn.model_selection import train_test_split\n",
        "import pickle\n",
        "print(tf.__version__)"
      ],
      "execution_count": 3,
      "outputs": [
        {
          "output_type": "stream",
          "name": "stdout",
          "text": [
            "2.4.1\n"
          ]
        }
      ]
    },
    {
      "cell_type": "code",
      "execution_count": 4,
      "metadata": {},
      "outputs": [
        {
          "output_type": "stream",
          "name": "stdout",
          "text": [
            "<class 'numpy.ndarray'> <class 'numpy.ndarray'>\n(60000, 784) (60000,)\n(10000, 784) (10000,)\n"
          ]
        }
      ],
      "source": [
        "DATASET = 'mnist.pkl'\n",
        "\n",
        "with open(DATASET, 'rb') as file:\n",
        "    mnist = pickle.load(file)\n",
        "\n",
        "X = np.array(mnist['data'])\n",
        "y = np.array(mnist['target'])\n",
        "y = y.astype(np.uint8)  # Optimization\n",
        "\n",
        "training_images, test_images, training_labels, test_labels = train_test_split(X, y, test_size=10000, random_state=42)\n",
        "\n",
        "# Shape of data\n",
        "print(type(training_images), type(training_labels))\n",
        "print(training_images.shape, training_labels.shape)\n",
        "print(test_images.shape, test_labels.shape)"
      ]
    },
    {
      "cell_type": "code",
      "metadata": {
        "colab": {
          "base_uri": "https://localhost:8080/",
          "height": 171
        },
        "id": "JrvXQt1_y4Cz",
        "outputId": "b26c91ad-6baa-43ef-ecb5-d324d128b477"
      },
      "source": [
        "# Visualize data\n",
        "plt.figure(1, figsize=(14,3))\n",
        "\n",
        "for i in range(10):\n",
        "    print(training_labels[i], end='          ')\n",
        "    plt.subplot(1,10,i+1)\n",
        "    plt.imshow(training_images[i].reshape(28,28), cmap='gray', interpolation='nearest')\n",
        "    plt.xticks([])\n",
        "    plt.yticks([])"
      ],
      "execution_count": 5,
      "outputs": [
        {
          "output_type": "stream",
          "name": "stdout",
          "text": [
            "2          4          0          1          6          6          9          0          3          4          "
          ]
        },
        {
          "output_type": "display_data",
          "data": {
            "text/plain": "<Figure size 1008x216 with 10 Axes>",
            "image/svg+xml": "<?xml version=\"1.0\" encoding=\"utf-8\" standalone=\"no\"?>\r\n<!DOCTYPE svg PUBLIC \"-//W3C//DTD SVG 1.1//EN\"\r\n  \"http://www.w3.org/Graphics/SVG/1.1/DTD/svg11.dtd\">\r\n<!-- Created with matplotlib (https://matplotlib.org/) -->\r\n<svg height=\"84.10339pt\" version=\"1.1\" viewBox=\"0 0 799.1 84.10339\" width=\"799.1pt\" xmlns=\"http://www.w3.org/2000/svg\" xmlns:xlink=\"http://www.w3.org/1999/xlink\">\r\n <metadata>\r\n  <rdf:RDF xmlns:cc=\"http://creativecommons.org/ns#\" xmlns:dc=\"http://purl.org/dc/elements/1.1/\" xmlns:rdf=\"http://www.w3.org/1999/02/22-rdf-syntax-ns#\">\r\n   <cc:Work>\r\n    <dc:type rdf:resource=\"http://purl.org/dc/dcmitype/StillImage\"/>\r\n    <dc:date>2021-03-23T19:24:14.375765</dc:date>\r\n    <dc:format>image/svg+xml</dc:format>\r\n    <dc:creator>\r\n     <cc:Agent>\r\n      <dc:title>Matplotlib v3.3.4, https://matplotlib.org/</dc:title>\r\n     </cc:Agent>\r\n    </dc:creator>\r\n   </cc:Work>\r\n  </rdf:RDF>\r\n </metadata>\r\n <defs>\r\n  <style type=\"text/css\">*{stroke-linecap:butt;stroke-linejoin:round;}</style>\r\n </defs>\r\n <g id=\"figure_1\">\r\n  <g id=\"patch_1\">\r\n   <path d=\"M 0 84.10339 \r\nL 799.1 84.10339 \r\nL 799.1 0 \r\nL 0 0 \r\nz\r\n\" style=\"fill:none;\"/>\r\n  </g>\r\n  <g id=\"axes_1\">\r\n   <g id=\"patch_2\">\r\n    <path d=\"M 10.7 73.40339 \r\nL 76.90339 73.40339 \r\nL 76.90339 7.2 \r\nL 10.7 7.2 \r\nz\r\n\" style=\"fill:#ffffff;\"/>\r\n   </g>\r\n   <g clip-path=\"url(#pd4e45ea7c4)\">\r\n    <image height=\"67\" id=\"image8f216e5c4b\" transform=\"scale(1 -1)translate(0 -67)\" width=\"67\" x=\"10.7\" xlink:href=\"data:image/png;base64,\r\niVBORw0KGgoAAAANSUhEUgAAAEMAAABDCAYAAADHyrhzAAAB1klEQVR4nO2aUZKCMBBEh629F3gy8GTgydyPrXFfYTYkYRCt6vcZBalOTycZ6czsbsLMzL7OfoB3QmIAiQEkBpAYQGKA77MfYC/3++/OYFmWx9jlcmm6l5wBJAZoLpNpmorGjmCe56exYRh231fOAJ1Vnk18VkpnwsOMAddK7rcZmq2/JWeAamf4UraHWreUOCLCeXIGkBjglDJ5eoiuexpjSaSW0ty1rcgZoHrT5YE1juNjLBVs1+vVzP6CLff9Wrf5vaORM4DEANUB6pQGnJdJytq563JEhiaRM0CzM4i7pHWmS3GXtTZvtpAzQIgznNIc2UtEiy+FnAEkBggtkxTeCuQONIcvwWwh5o7wqe+3ImeAw52Rw2dza1ZLlu6IjZicASQGOLVMasmFMc8+rWEqZ4CPEmNZlpAu+H98lBhHE5oZrNV1XUfUtLN1Bmr9L0XOABIDvKxMUkScK3Kd9dpdqZwB3qK5w6C73W5mVu6W3IlWztjBYdvxvU3ilFt8jJ8pMw5CYoC3a/tF0LpkyxngZf0MBmnEO5tr9Lp0MBIDnNL2W5dJ6qjN8Ov7Pnkdr2WLQC/FBvBRDeGjkTOAxAASA0gMIDGAxAASA0gMIDGAxAASA/wAf+nDZv8LOOMAAAAASUVORK5CYII=\" y=\"-6.40339\"/>\r\n   </g>\r\n   <g id=\"matplotlib.axis_1\"/>\r\n   <g id=\"matplotlib.axis_2\"/>\r\n   <g id=\"patch_3\">\r\n    <path d=\"M 10.7 73.40339 \r\nL 10.7 7.2 \r\n\" style=\"fill:none;stroke:#000000;stroke-linecap:square;stroke-linejoin:miter;stroke-width:0.8;\"/>\r\n   </g>\r\n   <g id=\"patch_4\">\r\n    <path d=\"M 76.90339 73.40339 \r\nL 76.90339 7.2 \r\n\" style=\"fill:none;stroke:#000000;stroke-linecap:square;stroke-linejoin:miter;stroke-width:0.8;\"/>\r\n   </g>\r\n   <g id=\"patch_5\">\r\n    <path d=\"M 10.7 73.40339 \r\nL 76.90339 73.40339 \r\n\" style=\"fill:none;stroke:#000000;stroke-linecap:square;stroke-linejoin:miter;stroke-width:0.8;\"/>\r\n   </g>\r\n   <g id=\"patch_6\">\r\n    <path d=\"M 10.7 7.2 \r\nL 76.90339 7.2 \r\n\" style=\"fill:none;stroke:#000000;stroke-linecap:square;stroke-linejoin:miter;stroke-width:0.8;\"/>\r\n   </g>\r\n  </g>\r\n  <g id=\"axes_2\">\r\n   <g id=\"patch_7\">\r\n    <path d=\"M 90.144068 73.40339 \r\nL 156.347458 73.40339 \r\nL 156.347458 7.2 \r\nL 90.144068 7.2 \r\nz\r\n\" style=\"fill:#ffffff;\"/>\r\n   </g>\r\n   <g clip-path=\"url(#pa5f4dda231)\">\r\n    <image height=\"67\" id=\"imageab14ca171a\" transform=\"scale(1 -1)translate(0 -67)\" width=\"67\" x=\"90.144068\" xlink:href=\"data:image/png;base64,\r\niVBORw0KGgoAAAANSUhEUgAAAEMAAABDCAYAAADHyrhzAAADgUlEQVR4nO2bSyj8URTHPx4LKa+NkpREkrJSskBZSFFCpJSQkgU7awsrVpQSWXjEjpQVG4UNRRbyKAtsKIqVvP0X/+6ZM3lkZn5+Y3E+q9O5029O3/nec2fuvRMDvGMAEBvtAv4SJobCxFCYGAoTQ2FiKOL9eqO5uTmJW1tbAZiZmQGgo6PDrzK+xZyhMDEUvk2T5eVlid00KSgoACA2NvCZvL29+VXSB8wZihii8Nvk6OgIgPz8fACys7Nl7OLiwu9yBHOGIirOaGtrAwJL6+bmpoxVVlYC8PLy4ndZ5gyNiaGIyjTJysoCYH9/H4C0tDQZKy4uBmBvb8/vsswZmqg4wzEyMgJAX1+f5CYmJgDo6enxvR5zhsLEUER1mmRmZgJwfn4uuff3/+Xk5eVJ7uzszJd6zBmKX3dGamoqAHd3d1++ZmVlReKamhoApqenJeea6ePjo+f1acwZCk+dUV9fL3FDQwMAJSUlAFxdXcmYc8ni4iIABwcHMrawsAAE94y6ujog2EG/gTlDYWIoPJkmSUlJABweHkrOLZvPz89A8FRISEgAAtt+eqtPbwE6XDPt7OyMtNRvMWcoPHHG6OgoAL29vZJbXV0FYGBgAICdnR0Zc84oLCwEoL+/X8bi4uKAQAOGwJJaVFQEwOnpaaQlf4o5Q2FiKDw5N3l9ff2Qc+ckeno4Hh4eANjd3QWgpaXlw2uGhoYkdtNobGwMgOrq6sgK/gJzhsKTBlpeXg7A+vq65O7v7wHIyckB4Pr6OqRnJiYmSuy2AN1y3djYKGNra2thVPw55gyFJz1jY2MDgK2tLcmVlZUBUFVVBcD8/HxIz3TOApiamgJgeHgYgObmZhkzZ/wSJobC0ysJS0tLErtp4hpoJLgl2H0Tra2tlTF35nJ7exvx+5gzFJ5u7iQnJ0t8fHwMwPj4OACDg4MRP7+rqwuAyclJyW1vbwNQUVEhuaenp7Ceb85Q/NqGsHOJu1qgl8pwcf3H9RCAlJQUANLT0yV3c3MT1vPNGQoTQxHVEzVHbm6uxD/ZuHFNGaC7uxuA9vZ2yc3OzoZVhzlD8SecER8f+O73k7tcGRkZEp+cnADBp22lpaVA6NuD5gyFiaHw7br0d4R6zfHy8lLipqYmIPhfC3rahYI5Q/EnGuhfwZyhMDEUJobCxFCYGAoTQ2FiKEwMhYmhMDEUJobiHzjI+OEfA+6BAAAAAElFTkSuQmCC\" y=\"-6.40339\"/>\r\n   </g>\r\n   <g id=\"matplotlib.axis_3\"/>\r\n   <g id=\"matplotlib.axis_4\"/>\r\n   <g id=\"patch_8\">\r\n    <path d=\"M 90.144068 73.40339 \r\nL 90.144068 7.2 \r\n\" style=\"fill:none;stroke:#000000;stroke-linecap:square;stroke-linejoin:miter;stroke-width:0.8;\"/>\r\n   </g>\r\n   <g id=\"patch_9\">\r\n    <path d=\"M 156.347458 73.40339 \r\nL 156.347458 7.2 \r\n\" style=\"fill:none;stroke:#000000;stroke-linecap:square;stroke-linejoin:miter;stroke-width:0.8;\"/>\r\n   </g>\r\n   <g id=\"patch_10\">\r\n    <path d=\"M 90.144068 73.40339 \r\nL 156.347458 73.40339 \r\n\" style=\"fill:none;stroke:#000000;stroke-linecap:square;stroke-linejoin:miter;stroke-width:0.8;\"/>\r\n   </g>\r\n   <g id=\"patch_11\">\r\n    <path d=\"M 90.144068 7.2 \r\nL 156.347458 7.2 \r\n\" style=\"fill:none;stroke:#000000;stroke-linecap:square;stroke-linejoin:miter;stroke-width:0.8;\"/>\r\n   </g>\r\n  </g>\r\n  <g id=\"axes_3\">\r\n   <g id=\"patch_12\">\r\n    <path d=\"M 169.588136 73.40339 \r\nL 235.791525 73.40339 \r\nL 235.791525 7.2 \r\nL 169.588136 7.2 \r\nz\r\n\" style=\"fill:#ffffff;\"/>\r\n   </g>\r\n   <g clip-path=\"url(#p356b48aab9)\">\r\n    <image height=\"67\" id=\"image4e4c8f568c\" transform=\"scale(1 -1)translate(0 -67)\" width=\"67\" x=\"169.588136\" xlink:href=\"data:image/png;base64,\r\niVBORw0KGgoAAAANSUhEUgAAAEMAAABDCAYAAADHyrhzAAADJ0lEQVR4nO2au0tjQRSHvyxK/gTxAQFfEGysxM7aIgELDSgoaBACtiIKvlIJWlho4QMCEWxFUCRFEMtAsLIxqI0vRFtREHSL3RnP9eouu2RyLc5XTc7cyz388jszd2ZuCHhDAeBH0Al8J1QMgYohUDEEKoZAxRCoGAIVQ6BiCKoq9aBUKmXbMzMzANTU1AAQCoVs3/z8PABzc3OVSs2izhA4d8bq6irgdcafmJ6eBrxumZ2dLX9in6DOEIRwtGodHBwEIJPJ/HqQ+KcvLi4A2NvbA6C3t9f21dbWAvD6+mpjsVgMgIODAxepWtQZAhVD4GwAra6uBrzlYRgYGACgUCgAkM1mbd/u7i4A9fX1Nra8vAxAqVQC4Pz8vPwJo87wULGXLsnj46Pn9/HxsW2Pjo4CsL+/b2Otra0AjIyMADA1NeUkL3WGQMUQBFIm7e3tAJycnPj6Dg8PAVhZWbGxsbExAHp6egAtk4oQiDOur6+/7Ht+fgZgYmLCxtra2gCoq6tzmpc6QxCIM+7v7/96zdPTk20Xi0UA+vv7AWhoaLB9V1dXZctLnSFQMQSBlElLSwvw+dT6Gdvb2wCMj48DkEwmbV85twfVGYJAnDE0NATAzs7Of91vNo5AneEMFUPgrEzMfuXd3R3wfkbynVFnCJw54+bmBoD19XXg/TwEoLOzE4Dm5mYAzs7OXKXxT6gzBM6n1s3NTQCGh4dtzGz2bmxsAN7p8ejoyHVKX6LOEKgYAudlcnl5Cfh3xAG6uroAWFpasrFEIgG8H0EC9PX1ee57eHgoe56gzvAQyNrkIwsLC7ZtpuRwOGxjHR0dANze3gJ+p5QLdYbA2ScJH5HTp9nqr6ryG9O8xr+8vNhYPB4H4PT0FIBoNOokR3WGQMUQVGwAlWViPleYnJz0Xdfd3e2LmbVLOp12k9xv1BmCig2gkqamJgByuRwAjY2NvmvW1tZse3FxEfC+iLlAnSFQMQSBlInBlEc+n7exSCQCeAdSU06uUWcIAl2bmAFxa2vLxsyZShBbgeoMQaBjxndDnSFQMQQqhkDFEKgYAhVDoGIIVAyBiiH4CVKCw9EFBqTuAAAAAElFTkSuQmCC\" y=\"-6.40339\"/>\r\n   </g>\r\n   <g id=\"matplotlib.axis_5\"/>\r\n   <g id=\"matplotlib.axis_6\"/>\r\n   <g id=\"patch_13\">\r\n    <path d=\"M 169.588136 73.40339 \r\nL 169.588136 7.2 \r\n\" style=\"fill:none;stroke:#000000;stroke-linecap:square;stroke-linejoin:miter;stroke-width:0.8;\"/>\r\n   </g>\r\n   <g id=\"patch_14\">\r\n    <path d=\"M 235.791525 73.40339 \r\nL 235.791525 7.2 \r\n\" style=\"fill:none;stroke:#000000;stroke-linecap:square;stroke-linejoin:miter;stroke-width:0.8;\"/>\r\n   </g>\r\n   <g id=\"patch_15\">\r\n    <path d=\"M 169.588136 73.40339 \r\nL 235.791525 73.40339 \r\n\" style=\"fill:none;stroke:#000000;stroke-linecap:square;stroke-linejoin:miter;stroke-width:0.8;\"/>\r\n   </g>\r\n   <g id=\"patch_16\">\r\n    <path d=\"M 169.588136 7.2 \r\nL 235.791525 7.2 \r\n\" style=\"fill:none;stroke:#000000;stroke-linecap:square;stroke-linejoin:miter;stroke-width:0.8;\"/>\r\n   </g>\r\n  </g>\r\n  <g id=\"axes_4\">\r\n   <g id=\"patch_17\">\r\n    <path d=\"M 249.032203 73.40339 \r\nL 315.235593 73.40339 \r\nL 315.235593 7.2 \r\nL 249.032203 7.2 \r\nz\r\n\" style=\"fill:#ffffff;\"/>\r\n   </g>\r\n   <g clip-path=\"url(#p0e1d1217ed)\">\r\n    <image height=\"67\" id=\"imaged1e49eaa2d\" transform=\"scale(1 -1)translate(0 -67)\" width=\"67\" x=\"249.032203\" xlink:href=\"data:image/png;base64,\r\niVBORw0KGgoAAAANSUhEUgAAAEMAAABDCAYAAADHyrhzAAAC9klEQVR4nO2aPUhjURBGT0waCwtBQ0BERIKFjYKYWvzBUhu1E6wEIQSxC2gTEQTBQrGws9FGC4kgItqIhQqpLDSNYBGwjChGwd1ieePIyuIm7+YH5jS5zMC7w8e5Ie+9BIBfGADUVXqAasLCUFgYCgtDYWEoLAyFhaGwMBQWhiLkx0XC4TAA29vbUuvp6QEgGo0CkM/n/djKKWaGwhczPLq6umTd3NwMwNraGgDT09N+buUEM0MRwIe71rq6P5mOj49LbWtrC4D6+noAlpaWpLe4uFjqlk4wMxQWhsKXY/IdOzs7AExOTgJwe3srvaGhIQAeHh5cbF00ZobCmRmRSASAm5sbABobG6W3sbEBwNzcHADv7+8uRvhvzAyFhaFwdkw85ufnAVhZWZFaLpcDYGxsDIDLy0uXI/wYM0Ph3IzOzk4ATk5OpNbS0gLA+fk5AIODg9J7e3tzOc4/MTMUzs3wiMVisj44OAA+72wXFhakl0qlyjHOt5gZCgtDUbZjohkdHQVgf38fgNfXV+l5D4F2d3fLPZaZofH1sd9P8e5Wvc/W1lbpTUxMAHB6eiq1x8fHssxlZigsDEVFvkA9hoeHATg6OvqrNzAwIOuzs7OyzGNmKCpqRiAQAGB1dVVqiUQCgGw2KzXv7dzLy4vTecwMRUXN8Ghra5P11dUVAE1NTVKbnZ0FYHNz0+kcZobCwlBUxTEJhT5/CHu39yMjI1J7fn4GoLe3F/j6DsZPzAxFVZjxHZlMRtbd3d0A3N/fA9De3u5kTzNDUbVm6D++7O3tAdDR0QF8fdYxNTUFwMfHR8l7mhkKC0NRtcdE09/fD8Dx8TEAwWBQen19fQBcX1+XvI+ZoagJMzxmZmYAWF9fl9rh4SHw9f9khUKhqOubGQoLQ1FTx6ShoQGAi4sLqXm/R5LJpNSWl5eLur6ZoajIe5NieXp6AiAej0stnU4DcHd3V/L1zQxFTX1nuMbMUFgYCgtDYWEoLAyFhaGwMBQWhsLCUPwG7Z+rdLwewhEAAAAASUVORK5CYII=\" y=\"-6.40339\"/>\r\n   </g>\r\n   <g id=\"matplotlib.axis_7\"/>\r\n   <g id=\"matplotlib.axis_8\"/>\r\n   <g id=\"patch_18\">\r\n    <path d=\"M 249.032203 73.40339 \r\nL 249.032203 7.2 \r\n\" style=\"fill:none;stroke:#000000;stroke-linecap:square;stroke-linejoin:miter;stroke-width:0.8;\"/>\r\n   </g>\r\n   <g id=\"patch_19\">\r\n    <path d=\"M 315.235593 73.40339 \r\nL 315.235593 7.2 \r\n\" style=\"fill:none;stroke:#000000;stroke-linecap:square;stroke-linejoin:miter;stroke-width:0.8;\"/>\r\n   </g>\r\n   <g id=\"patch_20\">\r\n    <path d=\"M 249.032203 73.40339 \r\nL 315.235593 73.40339 \r\n\" style=\"fill:none;stroke:#000000;stroke-linecap:square;stroke-linejoin:miter;stroke-width:0.8;\"/>\r\n   </g>\r\n   <g id=\"patch_21\">\r\n    <path d=\"M 249.032203 7.2 \r\nL 315.235593 7.2 \r\n\" style=\"fill:none;stroke:#000000;stroke-linecap:square;stroke-linejoin:miter;stroke-width:0.8;\"/>\r\n   </g>\r\n  </g>\r\n  <g id=\"axes_5\">\r\n   <g id=\"patch_22\">\r\n    <path d=\"M 328.476271 73.40339 \r\nL 394.679661 73.40339 \r\nL 394.679661 7.2 \r\nL 328.476271 7.2 \r\nz\r\n\" style=\"fill:#ffffff;\"/>\r\n   </g>\r\n   <g clip-path=\"url(#p2416d8e524)\">\r\n    <image height=\"67\" id=\"imagef212387bb0\" transform=\"scale(1 -1)translate(0 -67)\" width=\"67\" x=\"328.476271\" xlink:href=\"data:image/png;base64,\r\niVBORw0KGgoAAAANSUhEUgAAAEMAAABDCAYAAADHyrhzAAADL0lEQVR4nO2aOzM0QRSGn1VfgpTyExBIVMmsEhK5FKlQbInEu7V/QakSUWQuucQ1oRC5pYRIhQi+Or3v2GVnxswSnCfqOV27e/adt3u6T08BeMcBoO23E/hLuBiCiyG4GIKLIbgYgoshuBiCiyG4GIKLIfxr1Q91dHSEdl9fHwDd3d0ATE5Ohr6RkREA3t7eQqyt7f896+3tBeDk5CT0VatVAC4vL0Ps+fk5VY7uDKFATrtWu8N218fGxkKf3eFCoQDA+3sthTgxu9bY4+NjiJVKJQB2d3cT5ezOEFwMIdNhsry8HNqVSgX43tpZDhON7ezsADA7O5sof3eGkIkz7FF5fn4eYp2dnUDrnGGPX6g9lmdmZoD4E6k7Q3AxhExWoKurqwC0t7eHmNlX7f6576vrNDFdsVrs6empae6KO0PIxBm3t7cADA8Ph5hOco2ufxKL+7n7+/svMm6MO0NI7Yyurq7QLhaLQPxxbmP59PQUgImJiVifixs7Pj6O/E5c3BmCiyGkHibT09Oh3d/fDzReNTa6thXh2toaEC3upJ1AX15eQntpaalp/o1wZwiZPFqTLLCUi4sLIFqyGxwcTPRdNzc3QHSHend3FyftOtwZgoshpN7CW40T4ODgAIi/7bbnf09PD1ArAQAsLCwAMDU1FWJme1vpanXcCjmvr69p/kYEd4aQSXHn+voaqFW9IV5BZm9vD4DFxcXQ9/Dw8NN0UuPOEDJxhpX4zs7OQuzzQuy7st/R0VHoGx0d/Wk6qXFnCC6GkOm5yfz8fGivrKwAyavjW1tbAMzNzWWVVmzcGUKmzrBXDAAODw+B+kNm+N4ZtnhSZyQ9QE6LO0PI7ZWEcrkM1M5fk56o2W4UYGBgII8U63BnCC6GkNswsVXp+vo6EN2FJj14TnqAnBZ3hpCbMz6zvb0d2nZOEtcZV1dXAAwNDeWaoztDcDGElg0Tm1ChflJtNkxsVWrDJG31uxnuDKFlzmjExsYGED1Rs9eq1Rn7+/sAjI+P55qPO0P4VWfYLlfLhTa32AvyAJubm0DyVwyS4s4QXAzhV4fJX8OdIbgYgoshuBiCiyG4GMIHNmBrnnRlBVUAAAAASUVORK5CYII=\" y=\"-6.40339\"/>\r\n   </g>\r\n   <g id=\"matplotlib.axis_9\"/>\r\n   <g id=\"matplotlib.axis_10\"/>\r\n   <g id=\"patch_23\">\r\n    <path d=\"M 328.476271 73.40339 \r\nL 328.476271 7.2 \r\n\" style=\"fill:none;stroke:#000000;stroke-linecap:square;stroke-linejoin:miter;stroke-width:0.8;\"/>\r\n   </g>\r\n   <g id=\"patch_24\">\r\n    <path d=\"M 394.679661 73.40339 \r\nL 394.679661 7.2 \r\n\" style=\"fill:none;stroke:#000000;stroke-linecap:square;stroke-linejoin:miter;stroke-width:0.8;\"/>\r\n   </g>\r\n   <g id=\"patch_25\">\r\n    <path d=\"M 328.476271 73.40339 \r\nL 394.679661 73.40339 \r\n\" style=\"fill:none;stroke:#000000;stroke-linecap:square;stroke-linejoin:miter;stroke-width:0.8;\"/>\r\n   </g>\r\n   <g id=\"patch_26\">\r\n    <path d=\"M 328.476271 7.2 \r\nL 394.679661 7.2 \r\n\" style=\"fill:none;stroke:#000000;stroke-linecap:square;stroke-linejoin:miter;stroke-width:0.8;\"/>\r\n   </g>\r\n  </g>\r\n  <g id=\"axes_6\">\r\n   <g id=\"patch_27\">\r\n    <path d=\"M 407.920339 73.40339 \r\nL 474.123729 73.40339 \r\nL 474.123729 7.2 \r\nL 407.920339 7.2 \r\nz\r\n\" style=\"fill:#ffffff;\"/>\r\n   </g>\r\n   <g clip-path=\"url(#p42ad46586d)\">\r\n    <image height=\"67\" id=\"image399515c828\" transform=\"scale(1 -1)translate(0 -67)\" width=\"67\" x=\"407.920339\" xlink:href=\"data:image/png;base64,\r\niVBORw0KGgoAAAANSUhEUgAAAEMAAABDCAYAAADHyrhzAAAB2ElEQVR4nO2aS3KDMBAFh1TuhX0y7JMBJ3NWk7SpiUB4QCxeb+KkCkX11PqN6czsZcLMzL5ad+BKKAygMIDCAAoDKAygMIDCAAoDKAygMIDCAAoDKAygMIDCAN8ZjdxuNzMzG8cxo7l/eT6fZmb2eDwOaV9mgM52lv04OsMwJHWnHrdlmqbfv/FzDTIDKAywe5q8XuXH7vf72++cSr7gRrj2EX3frz5v9jdNln1YQ2aAlK3V4aiWFrHSyPpzW5/3z5F5vtVvNURmgFQzSnCk3aBoS/bRpGXLQ1ZkTdTW2tqyRGYAhQF2b61UMLqT+KJVWghd/7UTrLcxz/Pbc+xH1IfaLVZmgN1mkOgAVjMqa5bVokNXAgoDpEwTVzva12sLMlsX1SWcErrCJ5BiRul+4Hwyct6W/8wo5ETIDJBihrO1FNh1Xda/TEVmAIUBUqcJKZUFt9xbWiAzwGFmOJ/eW85EZoDDzXCibfdqhsgMoDDAadXxiKhk13LKyAxw2gJKSjWLlvcWmQEUBmgyTZzS/aX09eJRyAzQ1Iytxd+zFlWZAZqa4fDQFX3dcNYdRmYAhQGa3k0cf9XArP5tm0xkBrjEAhq9ksBi8Vk3WZkBFAa4xDS5CjID/AAqRLfvL7ebSQAAAABJRU5ErkJggg==\" y=\"-6.40339\"/>\r\n   </g>\r\n   <g id=\"matplotlib.axis_11\"/>\r\n   <g id=\"matplotlib.axis_12\"/>\r\n   <g id=\"patch_28\">\r\n    <path d=\"M 407.920339 73.40339 \r\nL 407.920339 7.2 \r\n\" style=\"fill:none;stroke:#000000;stroke-linecap:square;stroke-linejoin:miter;stroke-width:0.8;\"/>\r\n   </g>\r\n   <g id=\"patch_29\">\r\n    <path d=\"M 474.123729 73.40339 \r\nL 474.123729 7.2 \r\n\" style=\"fill:none;stroke:#000000;stroke-linecap:square;stroke-linejoin:miter;stroke-width:0.8;\"/>\r\n   </g>\r\n   <g id=\"patch_30\">\r\n    <path d=\"M 407.920339 73.40339 \r\nL 474.123729 73.40339 \r\n\" style=\"fill:none;stroke:#000000;stroke-linecap:square;stroke-linejoin:miter;stroke-width:0.8;\"/>\r\n   </g>\r\n   <g id=\"patch_31\">\r\n    <path d=\"M 407.920339 7.2 \r\nL 474.123729 7.2 \r\n\" style=\"fill:none;stroke:#000000;stroke-linecap:square;stroke-linejoin:miter;stroke-width:0.8;\"/>\r\n   </g>\r\n  </g>\r\n  <g id=\"axes_7\">\r\n   <g id=\"patch_32\">\r\n    <path d=\"M 487.364407 73.40339 \r\nL 553.567797 73.40339 \r\nL 553.567797 7.2 \r\nL 487.364407 7.2 \r\nz\r\n\" style=\"fill:#ffffff;\"/>\r\n   </g>\r\n   <g clip-path=\"url(#pe46da784d3)\">\r\n    <image height=\"67\" id=\"image5fd3634482\" transform=\"scale(1 -1)translate(0 -67)\" width=\"67\" x=\"487.364407\" xlink:href=\"data:image/png;base64,\r\niVBORw0KGgoAAAANSUhEUgAAAEMAAABDCAYAAADHyrhzAAADa0lEQVR4nO2aTShtURTHf3hMXGVkQBgQE+UroXyUkYkkRRGRialMDQ2EDMlADHxlqChlZsAVJZmIiSRGKCTkeqOz7rrv8t51u/a9r9ZvtFr7dM7y9z9777P2TQI+MABIjncBicQvVw8qKiqSeG5uDoCCggIAOjo6ZGx3dxeA9/d3V6UJ5gyFiaFIwtEE2tjYKPHW1hYAqampAJyenspYZWUlAM/Pzy7KCsGcoXA2gR4eHkq8s7MDQFNTk6vHR4Q5Q2FiKJy9Jo+PjxInJyfm/yAxq4oTzpZWTXNzMwAbGxthYwMDAwAsLCy4LAkwZ4QQF2d4c8ba2hoAbW1tMnZzcwOEbtLOz8/d1OXkKf8JJoYiLmIEAgECgQB+vx+/3x8y5vP58Pl88SjLnKFxtun6DM8Vt7e3ksvIyACgs7NTctPT0wDc3d39aD3mDIWJoYjLPuNP+vr6JPb6oxqv4XN0dPSjdZgzFHGdQD3Ozs4kfnt7A4ItQZeYMxQJ4YyXlxeJPz7Cp7DS0lLA5gynmBiKhFha09LSJB4dHQVgeHhYcg8PD0CwKbS3t/cjdZgzFDGdQEtKSiT2zkRqa2u/vN5r5MzMzEhudXUVgNbWVskVFhYC5gynmBiKmLwmLS0tACwuLkruOw2anp4eia+uroDgq6HJz8+PtsSIMGcool5aU1JSJN7f3wegrKxMcvf39wBMTEz88169vb0SFxcXf3mddyo3ODgouZWVlYjqjQRzhiLqOUOfl2ZlZYWNb25uArC9vQ3AwcHBl/daXl6WuL6+HoChoSHJlZeXA8F5SJ+zrK+vA/D09PS9P+ATzBkKE0MRk2+T7u5uAMbGxiSXnZ0NwOXlJQA1NTUy5u08/0Z6errE8/PzALS3twPB5ReguroagOvr66hq15gzFDHZdC0tLQHBlh3A5OQkALm5uQBcXFzImLcUf/aN4f3Kz5uAAerq6kKuycnJkbirqwuAqakpyX3WIIoEc4bix/oZ3olYf38/AFVVVTKWmZkZs+ecnJwAUFFRIblof2ptzlCYGApnbb+8vDyJGxoaABgZGQFCv0dmZ2cBeH19DbuH91U8Pj4uuePjYyB0x2qvSQxIiIZwomDOUJgYChNDYWIoTAyFiaEwMRQmhsLEUJgYChNDYWIoTAyFiaEwMRQmhuI3UdbkMP1ZEtgAAAAASUVORK5CYII=\" y=\"-6.40339\"/>\r\n   </g>\r\n   <g id=\"matplotlib.axis_13\"/>\r\n   <g id=\"matplotlib.axis_14\"/>\r\n   <g id=\"patch_33\">\r\n    <path d=\"M 487.364407 73.40339 \r\nL 487.364407 7.2 \r\n\" style=\"fill:none;stroke:#000000;stroke-linecap:square;stroke-linejoin:miter;stroke-width:0.8;\"/>\r\n   </g>\r\n   <g id=\"patch_34\">\r\n    <path d=\"M 553.567797 73.40339 \r\nL 553.567797 7.2 \r\n\" style=\"fill:none;stroke:#000000;stroke-linecap:square;stroke-linejoin:miter;stroke-width:0.8;\"/>\r\n   </g>\r\n   <g id=\"patch_35\">\r\n    <path d=\"M 487.364407 73.40339 \r\nL 553.567797 73.40339 \r\n\" style=\"fill:none;stroke:#000000;stroke-linecap:square;stroke-linejoin:miter;stroke-width:0.8;\"/>\r\n   </g>\r\n   <g id=\"patch_36\">\r\n    <path d=\"M 487.364407 7.2 \r\nL 553.567797 7.2 \r\n\" style=\"fill:none;stroke:#000000;stroke-linecap:square;stroke-linejoin:miter;stroke-width:0.8;\"/>\r\n   </g>\r\n  </g>\r\n  <g id=\"axes_8\">\r\n   <g id=\"patch_37\">\r\n    <path d=\"M 566.808475 73.40339 \r\nL 633.011864 73.40339 \r\nL 633.011864 7.2 \r\nL 566.808475 7.2 \r\nz\r\n\" style=\"fill:#ffffff;\"/>\r\n   </g>\r\n   <g clip-path=\"url(#pa85b425c0e)\">\r\n    <image height=\"67\" id=\"image46259903e5\" transform=\"scale(1 -1)translate(0 -67)\" width=\"67\" x=\"566.808475\" xlink:href=\"data:image/png;base64,\r\niVBORw0KGgoAAAANSUhEUgAAAEMAAABDCAYAAADHyrhzAAAB2ElEQVR4nO2ZW27CMBBFb6ruC1gZsDJgZfRroqN0MLbrNEG65wvR4FQ3Z8aPTJKeMpKkr63/gT3hMIDDAA4DOAzgMIDDAA4DOAzw3fvDy+Uyfz6fzy+vu16vv67fKzYDTGrcm9xuN0nS8XjsvunpdJIk3e/37jHWwGaAZjOez9eXR3+Qyn0kCDPClK2xGcBhgKENdJqm+XP8PbuuVEJbNlebAZrNiMVT9nTZQEuLrLAlxsjsoRn/1WBtBnAYoLlMgtJ6Q2prhNGUpXLJRBmu1VxtBug2o/Zptja/GIvjL8d8PB7zdyN3wzYDdJtRe54x3wgLshpoW2ZJMHJ/YzOAwwDdZVKrcTBiRVnaF3HM3qnXZoBuM0hpv5Lx16b3blrv3fnaDOAwwJAyCd7pu2TEGqG0R2pd29gMMNQM0vt+pbX5le7Tap7NAKuZEbROu0HpCDFb8JXe2dQuyGwGcBhg9TLJGPHyegnLJEohK6HSYZDNAJuYsaT1oCgje/rZgqy0ELMZYBdmZLTawikzDoyz39mMShwG2G2ZZPROybVHjjYDfJQZGdFoD4fD/F2Yk72b9d6kEocBPr5MRmIzgMMADgM4DOAwgMMADgM4DOAwgMMADgM4DOAwwA81Hc1jhbiWzwAAAABJRU5ErkJggg==\" y=\"-6.40339\"/>\r\n   </g>\r\n   <g id=\"matplotlib.axis_15\"/>\r\n   <g id=\"matplotlib.axis_16\"/>\r\n   <g id=\"patch_38\">\r\n    <path d=\"M 566.808475 73.40339 \r\nL 566.808475 7.2 \r\n\" style=\"fill:none;stroke:#000000;stroke-linecap:square;stroke-linejoin:miter;stroke-width:0.8;\"/>\r\n   </g>\r\n   <g id=\"patch_39\">\r\n    <path d=\"M 633.011864 73.40339 \r\nL 633.011864 7.2 \r\n\" style=\"fill:none;stroke:#000000;stroke-linecap:square;stroke-linejoin:miter;stroke-width:0.8;\"/>\r\n   </g>\r\n   <g id=\"patch_40\">\r\n    <path d=\"M 566.808475 73.40339 \r\nL 633.011864 73.40339 \r\n\" style=\"fill:none;stroke:#000000;stroke-linecap:square;stroke-linejoin:miter;stroke-width:0.8;\"/>\r\n   </g>\r\n   <g id=\"patch_41\">\r\n    <path d=\"M 566.808475 7.2 \r\nL 633.011864 7.2 \r\n\" style=\"fill:none;stroke:#000000;stroke-linecap:square;stroke-linejoin:miter;stroke-width:0.8;\"/>\r\n   </g>\r\n  </g>\r\n  <g id=\"axes_9\">\r\n   <g id=\"patch_42\">\r\n    <path d=\"M 646.252542 73.40339 \r\nL 712.455932 73.40339 \r\nL 712.455932 7.2 \r\nL 646.252542 7.2 \r\nz\r\n\" style=\"fill:#ffffff;\"/>\r\n   </g>\r\n   <g clip-path=\"url(#pa7922b33be)\">\r\n    <image height=\"67\" id=\"imagebb0a595266\" transform=\"scale(1 -1)translate(0 -67)\" width=\"67\" x=\"646.252542\" xlink:href=\"data:image/png;base64,\r\niVBORw0KGgoAAAANSUhEUgAAAEMAAABDCAYAAADHyrhzAAADZElEQVR4nO2aTShtURTHf/d5ZSCSkaRIMpGUUlJCUkwUQzNJkVJiYmIkA1ISKZkYMFVKSRjI10i+ixJjkq8BUbzBe3vddR/vw337PGewfpO7Wut09+5///ucs9fdEeAVA4Avnz2BMGFiKEwMhYmhMDEUJobCxFCYGAoTQ/HV55c1NTVJXFlZCUBdXR0AycnJb66fmZkBYGlpSXJTU1M+p/QhzBmKCHHuTZKSkiSenp4GID8/X3ILCwsAPD09AXB+fi61iooKAOrr6wF4fn6W2t3dHQAjIyOScw46PT2NZ6p/jTlDEbczBgYGJL6+vgZgbGxMcu4X/h3l5eUAjI6OSi49PR2AtLQ0yd3f3wPQ3t4ORJ3oG3OGwsRQxL1M2traJB4fH/c1HzIzMwEYHh6WnLvRHh0dAVBcXCy1x8dHb2ObMxRxOyNo8vLyJF5eXgairunu7pba0NCQtzHNGQoTQxHaZaKZn58HoLa2FoCtrS2plZaWehvHnKHwumv1SXV1tcRVVVUxtZ6enkDGNGcoQueMiYkJINoHgeiLVUdHBwBra2uBjG3OUJgYiv+2TFJSUiR2N0f3Jvn6Gn26FxYWArC/vy85d11Qy8NhzlAE7ozJyUkAGhoaJJeamgpAJBIBYp3hmJ2dlThoRzjMGQoTQxHY3sT1SFtbWwFYXFyUmmvWuGVyeHgotezsbAASEhIkV1JSAsDe3l4QUxXMGQqvztAd887OTgDOzs4AyMrKktrNzQ0Ag4ODQGx3PCcnB4DNzU3JraysAFFHBYU5Q+HVGScnJxL//Lg8Pj6WuLe3F4CdnZ1ffpfemfb19QFQVlYGwMbGxj/P9T3MGQoTQxHatl9ubq7EBwcHAKyurgJQU1MjtZeXF29jmjMUoWvuOC4uLiS+vb0Fonsa/UJmzgiI0DpD/+LuwMvc3BwQe7jFJ+YMhYmhCO0ySUxMlDgjIwOAoqKiQMc0ZyhC64zGxsY3ue3t7UDHNGcoTAzFh/cm7v+Prq4uybljirq1t76+DsDDw0PM559wp3PcPgRgd3cXsObOf8XrrtUdJgEoKCgAoLm5GYg9MHt1dfV98B8NYf3IbGlpAaL/twD09/cDcHl56Wuq72LOUIS2n/EZmDMUJobCxFCYGAoTQ2FiKEwMhYmhMDEU3wC/z+0vGHASSwAAAABJRU5ErkJggg==\" y=\"-6.40339\"/>\r\n   </g>\r\n   <g id=\"matplotlib.axis_17\"/>\r\n   <g id=\"matplotlib.axis_18\"/>\r\n   <g id=\"patch_43\">\r\n    <path d=\"M 646.252542 73.40339 \r\nL 646.252542 7.2 \r\n\" style=\"fill:none;stroke:#000000;stroke-linecap:square;stroke-linejoin:miter;stroke-width:0.8;\"/>\r\n   </g>\r\n   <g id=\"patch_44\">\r\n    <path d=\"M 712.455932 73.40339 \r\nL 712.455932 7.2 \r\n\" style=\"fill:none;stroke:#000000;stroke-linecap:square;stroke-linejoin:miter;stroke-width:0.8;\"/>\r\n   </g>\r\n   <g id=\"patch_45\">\r\n    <path d=\"M 646.252542 73.40339 \r\nL 712.455932 73.40339 \r\n\" style=\"fill:none;stroke:#000000;stroke-linecap:square;stroke-linejoin:miter;stroke-width:0.8;\"/>\r\n   </g>\r\n   <g id=\"patch_46\">\r\n    <path d=\"M 646.252542 7.2 \r\nL 712.455932 7.2 \r\n\" style=\"fill:none;stroke:#000000;stroke-linecap:square;stroke-linejoin:miter;stroke-width:0.8;\"/>\r\n   </g>\r\n  </g>\r\n  <g id=\"axes_10\">\r\n   <g id=\"patch_47\">\r\n    <path d=\"M 725.69661 73.40339 \r\nL 791.9 73.40339 \r\nL 791.9 7.2 \r\nL 725.69661 7.2 \r\nz\r\n\" style=\"fill:#ffffff;\"/>\r\n   </g>\r\n   <g clip-path=\"url(#p2dc57ba5f0)\">\r\n    <image height=\"67\" id=\"image4e7ac763ea\" transform=\"scale(1 -1)translate(0 -67)\" width=\"67\" x=\"725.69661\" xlink:href=\"data:image/png;base64,\r\niVBORw0KGgoAAAANSUhEUgAAAEMAAABDCAYAAADHyrhzAAADQElEQVR4nO2aTyi8QRjHP6TEgcJBDg6i3Jba/Ck5UntWSpw3bZuU2ty2lAOOKBc54aIc5LIOKHGQlE32hgPlz2ULUfidZjzbu37Z167Zw/M5PT3zNjN99zvzzjPvlgCfKACUup5AMaFiCFQMgYohKHM5+OjoKADz8/M219vbC8DBwcGfz0edIXDijOrqagDGxsZcDP8t6gyBiiFwskwqKioAaGlpcTH8t6gzBE6c8fb2BsDNzQ0ADQ0Ntm1wcBDQV6tzSnBYta6srAAwMjJic+l0GoD29nabu7y8/JP5qDMEKobA6TLp6uoCsm+Ww8PDNl5bW/uT+agzBE6rVrNZZqO/v9/G6+vrAHx+FtbE6gyBiiFwuoHW1tYCsL29bXPBYNDznNlMC72RqjMETp1h6OnpsfHe3p6n/fz8HIC2tjYA3t/fCzIPdYagKJxh9g6A/f19AFpbWz3PTU5OApmHtKenJwBOT09/PQ91hkDFEOS8TKqqqgDY2tr60fMnJycA7OzseNrq6uoA6Ovrs7lAIABkXybZMMskHA7bnN9XsDpDkLMzampqALi/vy/EfHzz/Pxs4+7ubgCSyWROfagzBCqGwGkJnw8ikQgAm5ubNvf4+OirL3WGwPcGent7a3NlZV6DnZ2dAbCxseFrYnLzu7u7A2B3dxeA0tKv39CcPDs6OmzOb+2izhD4rk3m5uZsPD4+7mlfXV0FMr+J/BbzOjfulCwsLNh4YmIC+Ppy91PUGQIVQ+B7mTQ3N9s4lUp52q+urgAIhUIAXFxc+BkmA3MlKK8JZflv6OzsBOD4+Din/tUZAt/OqKystPHS0hIAQ0NDnucWFxcBiEajfobJSiwWs/H09LSn/ejoCICBgQEg8xjwP9QZgrxc+5kDz+HhoafNHJiampps7uXl5VfjlZeX23h2dhb4OpZLpqamAIjH4z/qV50hUDEEealazQZ1fX1tc42NjQA8PDwA8PHxkY+hAHh9fbXx8vIykH2Z1NfX59SvOkOQ1/sMWU2aeGZmBsj8NfOJqW6lM8w/BhOJRE59qTMEKoagKD4vFgvqDIGKIVAxBCqGQMUQqBgCFUOgYghUDIGKIVAxBCqGQMUQ/AOl0d7CWix16QAAAABJRU5ErkJggg==\" y=\"-6.40339\"/>\r\n   </g>\r\n   <g id=\"matplotlib.axis_19\"/>\r\n   <g id=\"matplotlib.axis_20\"/>\r\n   <g id=\"patch_48\">\r\n    <path d=\"M 725.69661 73.40339 \r\nL 725.69661 7.2 \r\n\" style=\"fill:none;stroke:#000000;stroke-linecap:square;stroke-linejoin:miter;stroke-width:0.8;\"/>\r\n   </g>\r\n   <g id=\"patch_49\">\r\n    <path d=\"M 791.9 73.40339 \r\nL 791.9 7.2 \r\n\" style=\"fill:none;stroke:#000000;stroke-linecap:square;stroke-linejoin:miter;stroke-width:0.8;\"/>\r\n   </g>\r\n   <g id=\"patch_50\">\r\n    <path d=\"M 725.69661 73.40339 \r\nL 791.9 73.40339 \r\n\" style=\"fill:none;stroke:#000000;stroke-linecap:square;stroke-linejoin:miter;stroke-width:0.8;\"/>\r\n   </g>\r\n   <g id=\"patch_51\">\r\n    <path d=\"M 725.69661 7.2 \r\nL 791.9 7.2 \r\n\" style=\"fill:none;stroke:#000000;stroke-linecap:square;stroke-linejoin:miter;stroke-width:0.8;\"/>\r\n   </g>\r\n  </g>\r\n </g>\r\n <defs>\r\n  <clipPath id=\"pd4e45ea7c4\">\r\n   <rect height=\"66.20339\" width=\"66.20339\" x=\"10.7\" y=\"7.2\"/>\r\n  </clipPath>\r\n  <clipPath id=\"pa5f4dda231\">\r\n   <rect height=\"66.20339\" width=\"66.20339\" x=\"90.144068\" y=\"7.2\"/>\r\n  </clipPath>\r\n  <clipPath id=\"p356b48aab9\">\r\n   <rect height=\"66.20339\" width=\"66.20339\" x=\"169.588136\" y=\"7.2\"/>\r\n  </clipPath>\r\n  <clipPath id=\"p0e1d1217ed\">\r\n   <rect height=\"66.20339\" width=\"66.20339\" x=\"249.032203\" y=\"7.2\"/>\r\n  </clipPath>\r\n  <clipPath id=\"p2416d8e524\">\r\n   <rect height=\"66.20339\" width=\"66.20339\" x=\"328.476271\" y=\"7.2\"/>\r\n  </clipPath>\r\n  <clipPath id=\"p42ad46586d\">\r\n   <rect height=\"66.20339\" width=\"66.20339\" x=\"407.920339\" y=\"7.2\"/>\r\n  </clipPath>\r\n  <clipPath id=\"pe46da784d3\">\r\n   <rect height=\"66.20339\" width=\"66.20339\" x=\"487.364407\" y=\"7.2\"/>\r\n  </clipPath>\r\n  <clipPath id=\"pa85b425c0e\">\r\n   <rect height=\"66.20339\" width=\"66.20339\" x=\"566.808475\" y=\"7.2\"/>\r\n  </clipPath>\r\n  <clipPath id=\"pa7922b33be\">\r\n   <rect height=\"66.20339\" width=\"66.20339\" x=\"646.252542\" y=\"7.2\"/>\r\n  </clipPath>\r\n  <clipPath id=\"p2dc57ba5f0\">\r\n   <rect height=\"66.20339\" width=\"66.20339\" x=\"725.69661\" y=\"7.2\"/>\r\n  </clipPath>\r\n </defs>\r\n</svg>\r\n",
            "image/png": "[encoded data removed]"
          },
          "metadata": {}
        }
      ]
    },
    {
      "cell_type": "code",
      "metadata": {
        "id": "fTOwfe5Y0hJC"
      },
      "source": [
        "# Normalize data\n",
        "training_images = training_images / 255.0\n",
        "test_images = test_images / 255.0"
      ],
      "execution_count": 6,
      "outputs": []
    },
    {
      "cell_type": "code",
      "metadata": {
        "id": "iFCczDkt0p3h"
      },
      "source": [
        "# Model\n",
        "model = tf.keras.models.Sequential([  # A sequence of layers in a neural network\n",
        "                                    tf.keras.Input(shape=(28,28)),\n",
        "                                    tf.keras.layers.Flatten(),  # Similar to np.reshape((28, 28))\n",
        "                                    tf.keras.layers.Dense(1024, activation=tf.nn.relu),  # 1024 neuron hidden layer\n",
        "                                    tf.keras.layers.Dense(10, activation=tf.nn.softmax)  # Output layer, 10 neurons\n",
        "])\n",
        "\n",
        "# Train\n",
        "model.compile(\n",
        "    optimizer = tf.keras.optimizers.Adam(),\n",
        "    loss = 'sparse_categorical_crossentropy',\n",
        "    metrics=['accuracy']\n",
        ")\n",
        "model.fit(training_images, training_labels, epochs=10)"
      ],
      "execution_count": 29,
      "outputs": [
        {
          "output_type": "stream",
          "name": "stdout",
          "text": [
            "Epoch 1/10\n",
            "WARNING:tensorflow:Model was constructed with shape (None, 28, 28) for input KerasTensor(type_spec=TensorSpec(shape=(None, 28, 28), dtype=tf.float32, name='input_2'), name='input_2', description=\"created by layer 'input_2'\"), but it was called on an input with incompatible shape (32, 784).\n",
            "WARNING:tensorflow:Model was constructed with shape (None, 28, 28) for input KerasTensor(type_spec=TensorSpec(shape=(None, 28, 28), dtype=tf.float32, name='input_2'), name='input_2', description=\"created by layer 'input_2'\"), but it was called on an input with incompatible shape (32, 784).\n",
            "1875/1875 [==============================] - 11s 5ms/step - loss: 0.3032 - accuracy: 0.9086\n",
            "Epoch 2/10\n",
            "1875/1875 [==============================] - 11s 6ms/step - loss: 0.0730 - accuracy: 0.9768\n",
            "Epoch 3/10\n",
            "1875/1875 [==============================] - 11s 6ms/step - loss: 0.0430 - accuracy: 0.9865\n",
            "Epoch 4/10\n",
            "1875/1875 [==============================] - 11s 6ms/step - loss: 0.0287 - accuracy: 0.9908\n",
            "Epoch 5/10\n",
            "1875/1875 [==============================] - 11s 6ms/step - loss: 0.0225 - accuracy: 0.9925\n",
            "Epoch 6/10\n",
            "1875/1875 [==============================] - 11s 6ms/step - loss: 0.0183 - accuracy: 0.9937\n",
            "Epoch 7/10\n",
            "1875/1875 [==============================] - 11s 6ms/step - loss: 0.0160 - accuracy: 0.9947\n",
            "Epoch 8/10\n",
            "1875/1875 [==============================] - 11s 6ms/step - loss: 0.0115 - accuracy: 0.9964\n",
            "Epoch 9/10\n",
            "1875/1875 [==============================] - 11s 6ms/step - loss: 0.0113 - accuracy: 0.9964\n",
            "Epoch 10/10\n",
            "1875/1875 [==============================] - 11s 6ms/step - loss: 0.0128 - accuracy: 0.9962\n"
          ]
        },
        {
          "output_type": "execute_result",
          "data": {
            "text/plain": [
              "<tensorflow.python.keras.callbacks.History at 0x1fe70c80070>"
            ]
          },
          "metadata": {},
          "execution_count": 29
        }
      ]
    },
    {
      "cell_type": "code",
      "metadata": {
        "colab": {
          "base_uri": "https://localhost:8080/"
        },
        "id": "vdXwOuhm2Fa6",
        "outputId": "9b88c75f-004c-437a-9596-0ebf28397ba9"
      },
      "source": [
        "# Train\n",
        "model.compile(\n",
        "    optimizer = tf.keras.optimizers.Adam(),\n",
        "    loss = 'sparse_categorical_crossentropy',\n",
        "    metrics=['accuracy']\n",
        ")\n",
        "model.fit(training_images, training_labels, epochs=10)"
      ],
      "execution_count": 14,
      "outputs": [
        {
          "output_type": "stream",
          "name": "stdout",
          "text": [
            "Epoch 1/10\n",
            "1875/1875 [==============================] - 11s 6ms/step - loss: 0.3019 - accuracy: 0.9112\n",
            "Epoch 2/10\n",
            "1875/1875 [==============================] - 17s 9ms/step - loss: 0.0751 - accuracy: 0.9759\n",
            "Epoch 3/10\n",
            "1875/1875 [==============================] - 20s 10ms/step - loss: 0.0469 - accuracy: 0.9854\n",
            "Epoch 4/10\n",
            "1875/1875 [==============================] - 15s 8ms/step - loss: 0.0309 - accuracy: 0.9904\n",
            "Epoch 5/10\n",
            "1875/1875 [==============================] - 14s 7ms/step - loss: 0.0228 - accuracy: 0.9922\n",
            "Epoch 6/10\n",
            "1875/1875 [==============================] - 14s 7ms/step - loss: 0.0185 - accuracy: 0.9937\n",
            "Epoch 7/10\n",
            "1875/1875 [==============================] - 13s 7ms/step - loss: 0.0169 - accuracy: 0.9943\n",
            "Epoch 8/10\n",
            "1875/1875 [==============================] - 13s 7ms/step - loss: 0.0103 - accuracy: 0.9967\n",
            "Epoch 9/10\n",
            "1875/1875 [==============================] - 13s 7ms/step - loss: 0.0127 - accuracy: 0.9952\n",
            "Epoch 10/10\n",
            "1875/1875 [==============================] - 13s 7ms/step - loss: 0.0123 - accuracy: 0.9955\n"
          ]
        },
        {
          "output_type": "execute_result",
          "data": {
            "text/plain": [
              "<tensorflow.python.keras.callbacks.History at 0x1fe6ed433a0>"
            ]
          },
          "metadata": {},
          "execution_count": 14
        }
      ]
    },
    {
      "cell_type": "code",
      "metadata": {
        "colab": {
          "base_uri": "https://localhost:8080/"
        },
        "id": "bJkguOfk5a5c",
        "outputId": "0bbf1d08-08ee-4973-d9d8-72795a205efc"
      },
      "source": [
        "model.evaluate(test_images, test_labels)"
      ],
      "execution_count": 17,
      "outputs": [
        {
          "output_type": "stream",
          "name": "stdout",
          "text": [
            "313/313 [==============================] - 1s 3ms/step - loss: 0.0983 - accuracy: 0.9785\n"
          ]
        },
        {
          "output_type": "execute_result",
          "data": {
            "text/plain": [
              "[0.09834393858909607, 0.9785000085830688]"
            ]
          },
          "metadata": {},
          "execution_count": 17
        }
      ]
    },
    {
      "cell_type": "code",
      "metadata": {
        "colab": {
          "base_uri": "https://localhost:8080/"
        },
        "id": "rrVpbTxD7ovl",
        "outputId": "47d0746e-81d0-468c-afc9-62afaeeb25f0"
      },
      "source": [
        "os.remove('./saved_model.pb')\n",
        "model.save('./')"
      ],
      "execution_count": 18,
      "outputs": [
        {
          "output_type": "stream",
          "name": "stdout",
          "text": [
            "INFO:tensorflow:Assets written to: ./assets\n"
          ]
        }
      ]
    },
    {
      "cell_type": "code",
      "execution_count": 19,
      "metadata": {},
      "outputs": [
        {
          "output_type": "stream",
          "name": "stdout",
          "text": [
            "313/313 [==============================] - 2s 5ms/step - loss: 0.0983 - accuracy: 0.9785\n"
          ]
        },
        {
          "output_type": "execute_result",
          "data": {
            "text/plain": [
              "[0.09834393858909607, 0.9785000085830688]"
            ]
          },
          "metadata": {},
          "execution_count": 19
        }
      ],
      "source": [
        "model_l = tf.keras.models.load_model('./')\n",
        "model_l.evaluate(test_images, test_labels)"
      ]
    },
    {
      "cell_type": "code",
      "execution_count": 28,
      "metadata": {},
      "outputs": [
        {
          "output_type": "stream",
          "name": "stdout",
          "text": [
            "WARNING:tensorflow:Model was constructed with shape (None, 784) for input KerasTensor(type_spec=TensorSpec(shape=(None, 784), dtype=tf.float32, name='input_1'), name='input_1', description=\"created by layer 'input_1'\"), but it was called on an input with incompatible shape (None, 1).\n"
          ]
        },
        {
          "output_type": "error",
          "ename": "ValueError",
          "evalue": "in user code:\n\n    C:\\Users\\notif\\AppData\\Local\\Programs\\Python\\Python38\\lib\\site-packages\\tensorflow\\python\\keras\\engine\\training.py:1478 predict_function  *\n        return step_function(self, iterator)\n    C:\\Users\\notif\\AppData\\Local\\Programs\\Python\\Python38\\lib\\site-packages\\tensorflow\\python\\keras\\engine\\training.py:1468 step_function  **\n        outputs = model.distribute_strategy.run(run_step, args=(data,))\n    C:\\Users\\notif\\AppData\\Local\\Programs\\Python\\Python38\\lib\\site-packages\\tensorflow\\python\\distribute\\distribute_lib.py:1259 run\n        return self._extended.call_for_each_replica(fn, args=args, kwargs=kwargs)\n    C:\\Users\\notif\\AppData\\Local\\Programs\\Python\\Python38\\lib\\site-packages\\tensorflow\\python\\distribute\\distribute_lib.py:2730 call_for_each_replica\n        return self._call_for_each_replica(fn, args, kwargs)\n    C:\\Users\\notif\\AppData\\Local\\Programs\\Python\\Python38\\lib\\site-packages\\tensorflow\\python\\distribute\\distribute_lib.py:3417 _call_for_each_replica\n        return fn(*args, **kwargs)\n    C:\\Users\\notif\\AppData\\Local\\Programs\\Python\\Python38\\lib\\site-packages\\tensorflow\\python\\keras\\engine\\training.py:1461 run_step  **\n        outputs = model.predict_step(data)\n    C:\\Users\\notif\\AppData\\Local\\Programs\\Python\\Python38\\lib\\site-packages\\tensorflow\\python\\keras\\engine\\training.py:1434 predict_step\n        return self(x, training=False)\n    C:\\Users\\notif\\AppData\\Local\\Programs\\Python\\Python38\\lib\\site-packages\\tensorflow\\python\\keras\\engine\\base_layer.py:1012 __call__\n        outputs = call_fn(inputs, *args, **kwargs)\n    C:\\Users\\notif\\AppData\\Local\\Programs\\Python\\Python38\\lib\\site-packages\\tensorflow\\python\\keras\\engine\\sequential.py:375 call\n        return super(Sequential, self).call(inputs, training=training, mask=mask)\n    C:\\Users\\notif\\AppData\\Local\\Programs\\Python\\Python38\\lib\\site-packages\\tensorflow\\python\\keras\\engine\\functional.py:424 call\n        return self._run_internal_graph(\n    C:\\Users\\notif\\AppData\\Local\\Programs\\Python\\Python38\\lib\\site-packages\\tensorflow\\python\\keras\\engine\\functional.py:560 _run_internal_graph\n        outputs = node.layer(*args, **kwargs)\n    C:\\Users\\notif\\AppData\\Local\\Programs\\Python\\Python38\\lib\\site-packages\\tensorflow\\python\\keras\\engine\\base_layer.py:998 __call__\n        input_spec.assert_input_compatibility(self.input_spec, inputs, self.name)\n    C:\\Users\\notif\\AppData\\Local\\Programs\\Python\\Python38\\lib\\site-packages\\tensorflow\\python\\keras\\engine\\input_spec.py:255 assert_input_compatibility\n        raise ValueError(\n\n    ValueError: Input 0 of layer dense_2 is incompatible with the layer: expected axis -1 of input shape to have value 784 but received input with shape (None, 1)\n",
          "traceback": [
            "\u001b[1;31m---------------------------------------------------------------------------\u001b[0m",
            "\u001b[1;31mValueError\u001b[0m                                Traceback (most recent call last)",
            "\u001b[1;32m<ipython-input-28-dbcc67969d33>\u001b[0m in \u001b[0;36m<module>\u001b[1;34m\u001b[0m\n\u001b[1;32m----> 1\u001b[1;33m \u001b[0mmodel_l\u001b[0m\u001b[1;33m.\u001b[0m\u001b[0mpredict\u001b[0m\u001b[1;33m(\u001b[0m\u001b[0mtest_images\u001b[0m\u001b[1;33m[\u001b[0m\u001b[1;36m0\u001b[0m\u001b[1;33m]\u001b[0m\u001b[1;33m.\u001b[0m\u001b[0mreshape\u001b[0m\u001b[1;33m(\u001b[0m\u001b[1;36m784\u001b[0m\u001b[1;33m)\u001b[0m\u001b[1;33m)\u001b[0m\u001b[1;33m\u001b[0m\u001b[1;33m\u001b[0m\u001b[0m\n\u001b[0m\u001b[0;32m      2\u001b[0m \u001b[1;31m# print(test_images[0].shape)\u001b[0m\u001b[1;33m\u001b[0m\u001b[1;33m\u001b[0m\u001b[1;33m\u001b[0m\u001b[0m\n",
            "\u001b[1;32m~\\AppData\\Local\\Programs\\Python\\Python38\\lib\\site-packages\\tensorflow\\python\\keras\\engine\\training.py\u001b[0m in \u001b[0;36mpredict\u001b[1;34m(self, x, batch_size, verbose, steps, callbacks, max_queue_size, workers, use_multiprocessing)\u001b[0m\n\u001b[0;32m   1627\u001b[0m           \u001b[1;32mfor\u001b[0m \u001b[0mstep\u001b[0m \u001b[1;32min\u001b[0m \u001b[0mdata_handler\u001b[0m\u001b[1;33m.\u001b[0m\u001b[0msteps\u001b[0m\u001b[1;33m(\u001b[0m\u001b[1;33m)\u001b[0m\u001b[1;33m:\u001b[0m\u001b[1;33m\u001b[0m\u001b[1;33m\u001b[0m\u001b[0m\n\u001b[0;32m   1628\u001b[0m             \u001b[0mcallbacks\u001b[0m\u001b[1;33m.\u001b[0m\u001b[0mon_predict_batch_begin\u001b[0m\u001b[1;33m(\u001b[0m\u001b[0mstep\u001b[0m\u001b[1;33m)\u001b[0m\u001b[1;33m\u001b[0m\u001b[1;33m\u001b[0m\u001b[0m\n\u001b[1;32m-> 1629\u001b[1;33m             \u001b[0mtmp_batch_outputs\u001b[0m \u001b[1;33m=\u001b[0m \u001b[0mself\u001b[0m\u001b[1;33m.\u001b[0m\u001b[0mpredict_function\u001b[0m\u001b[1;33m(\u001b[0m\u001b[0miterator\u001b[0m\u001b[1;33m)\u001b[0m\u001b[1;33m\u001b[0m\u001b[1;33m\u001b[0m\u001b[0m\n\u001b[0m\u001b[0;32m   1630\u001b[0m             \u001b[1;32mif\u001b[0m \u001b[0mdata_handler\u001b[0m\u001b[1;33m.\u001b[0m\u001b[0mshould_sync\u001b[0m\u001b[1;33m:\u001b[0m\u001b[1;33m\u001b[0m\u001b[1;33m\u001b[0m\u001b[0m\n\u001b[0;32m   1631\u001b[0m               \u001b[0mcontext\u001b[0m\u001b[1;33m.\u001b[0m\u001b[0masync_wait\u001b[0m\u001b[1;33m(\u001b[0m\u001b[1;33m)\u001b[0m\u001b[1;33m\u001b[0m\u001b[1;33m\u001b[0m\u001b[0m\n",
            "\u001b[1;32m~\\AppData\\Local\\Programs\\Python\\Python38\\lib\\site-packages\\tensorflow\\python\\eager\\def_function.py\u001b[0m in \u001b[0;36m__call__\u001b[1;34m(self, *args, **kwds)\u001b[0m\n\u001b[0;32m    826\u001b[0m     \u001b[0mtracing_count\u001b[0m \u001b[1;33m=\u001b[0m \u001b[0mself\u001b[0m\u001b[1;33m.\u001b[0m\u001b[0mexperimental_get_tracing_count\u001b[0m\u001b[1;33m(\u001b[0m\u001b[1;33m)\u001b[0m\u001b[1;33m\u001b[0m\u001b[1;33m\u001b[0m\u001b[0m\n\u001b[0;32m    827\u001b[0m     \u001b[1;32mwith\u001b[0m \u001b[0mtrace\u001b[0m\u001b[1;33m.\u001b[0m\u001b[0mTrace\u001b[0m\u001b[1;33m(\u001b[0m\u001b[0mself\u001b[0m\u001b[1;33m.\u001b[0m\u001b[0m_name\u001b[0m\u001b[1;33m)\u001b[0m \u001b[1;32mas\u001b[0m \u001b[0mtm\u001b[0m\u001b[1;33m:\u001b[0m\u001b[1;33m\u001b[0m\u001b[1;33m\u001b[0m\u001b[0m\n\u001b[1;32m--> 828\u001b[1;33m       \u001b[0mresult\u001b[0m \u001b[1;33m=\u001b[0m \u001b[0mself\u001b[0m\u001b[1;33m.\u001b[0m\u001b[0m_call\u001b[0m\u001b[1;33m(\u001b[0m\u001b[1;33m*\u001b[0m\u001b[0margs\u001b[0m\u001b[1;33m,\u001b[0m \u001b[1;33m**\u001b[0m\u001b[0mkwds\u001b[0m\u001b[1;33m)\u001b[0m\u001b[1;33m\u001b[0m\u001b[1;33m\u001b[0m\u001b[0m\n\u001b[0m\u001b[0;32m    829\u001b[0m       \u001b[0mcompiler\u001b[0m \u001b[1;33m=\u001b[0m \u001b[1;34m\"xla\"\u001b[0m \u001b[1;32mif\u001b[0m \u001b[0mself\u001b[0m\u001b[1;33m.\u001b[0m\u001b[0m_experimental_compile\u001b[0m \u001b[1;32melse\u001b[0m \u001b[1;34m\"nonXla\"\u001b[0m\u001b[1;33m\u001b[0m\u001b[1;33m\u001b[0m\u001b[0m\n\u001b[0;32m    830\u001b[0m       \u001b[0mnew_tracing_count\u001b[0m \u001b[1;33m=\u001b[0m \u001b[0mself\u001b[0m\u001b[1;33m.\u001b[0m\u001b[0mexperimental_get_tracing_count\u001b[0m\u001b[1;33m(\u001b[0m\u001b[1;33m)\u001b[0m\u001b[1;33m\u001b[0m\u001b[1;33m\u001b[0m\u001b[0m\n",
            "\u001b[1;32m~\\AppData\\Local\\Programs\\Python\\Python38\\lib\\site-packages\\tensorflow\\python\\eager\\def_function.py\u001b[0m in \u001b[0;36m_call\u001b[1;34m(self, *args, **kwds)\u001b[0m\n\u001b[0;32m    860\u001b[0m       \u001b[1;31m# In this case we have not created variables on the first call. So we can\u001b[0m\u001b[1;33m\u001b[0m\u001b[1;33m\u001b[0m\u001b[1;33m\u001b[0m\u001b[0m\n\u001b[0;32m    861\u001b[0m       \u001b[1;31m# run the first trace but we should fail if variables are created.\u001b[0m\u001b[1;33m\u001b[0m\u001b[1;33m\u001b[0m\u001b[1;33m\u001b[0m\u001b[0m\n\u001b[1;32m--> 862\u001b[1;33m       \u001b[0mresults\u001b[0m \u001b[1;33m=\u001b[0m \u001b[0mself\u001b[0m\u001b[1;33m.\u001b[0m\u001b[0m_stateful_fn\u001b[0m\u001b[1;33m(\u001b[0m\u001b[1;33m*\u001b[0m\u001b[0margs\u001b[0m\u001b[1;33m,\u001b[0m \u001b[1;33m**\u001b[0m\u001b[0mkwds\u001b[0m\u001b[1;33m)\u001b[0m\u001b[1;33m\u001b[0m\u001b[1;33m\u001b[0m\u001b[0m\n\u001b[0m\u001b[0;32m    863\u001b[0m       \u001b[1;32mif\u001b[0m \u001b[0mself\u001b[0m\u001b[1;33m.\u001b[0m\u001b[0m_created_variables\u001b[0m\u001b[1;33m:\u001b[0m\u001b[1;33m\u001b[0m\u001b[1;33m\u001b[0m\u001b[0m\n\u001b[0;32m    864\u001b[0m         raise ValueError(\"Creating variables on a non-first call to a function\"\n",
            "\u001b[1;32m~\\AppData\\Local\\Programs\\Python\\Python38\\lib\\site-packages\\tensorflow\\python\\eager\\function.py\u001b[0m in \u001b[0;36m__call__\u001b[1;34m(self, *args, **kwargs)\u001b[0m\n\u001b[0;32m   2939\u001b[0m     \u001b[1;32mwith\u001b[0m \u001b[0mself\u001b[0m\u001b[1;33m.\u001b[0m\u001b[0m_lock\u001b[0m\u001b[1;33m:\u001b[0m\u001b[1;33m\u001b[0m\u001b[1;33m\u001b[0m\u001b[0m\n\u001b[0;32m   2940\u001b[0m       (graph_function,\n\u001b[1;32m-> 2941\u001b[1;33m        filtered_flat_args) = self._maybe_define_function(args, kwargs)\n\u001b[0m\u001b[0;32m   2942\u001b[0m     return graph_function._call_flat(\n\u001b[0;32m   2943\u001b[0m         filtered_flat_args, captured_inputs=graph_function.captured_inputs)  # pylint: disable=protected-access\n",
            "\u001b[1;32m~\\AppData\\Local\\Programs\\Python\\Python38\\lib\\site-packages\\tensorflow\\python\\eager\\function.py\u001b[0m in \u001b[0;36m_maybe_define_function\u001b[1;34m(self, args, kwargs)\u001b[0m\n\u001b[0;32m   3355\u001b[0m               \u001b[0mself\u001b[0m\u001b[1;33m.\u001b[0m\u001b[0minput_signature\u001b[0m \u001b[1;32mis\u001b[0m \u001b[1;32mNone\u001b[0m \u001b[1;32mand\u001b[0m\u001b[1;33m\u001b[0m\u001b[1;33m\u001b[0m\u001b[0m\n\u001b[0;32m   3356\u001b[0m               call_context_key in self._function_cache.missed):\n\u001b[1;32m-> 3357\u001b[1;33m             return self._define_function_with_shape_relaxation(\n\u001b[0m\u001b[0;32m   3358\u001b[0m                 args, kwargs, flat_args, filtered_flat_args, cache_key_context)\n\u001b[0;32m   3359\u001b[0m \u001b[1;33m\u001b[0m\u001b[0m\n",
            "\u001b[1;32m~\\AppData\\Local\\Programs\\Python\\Python38\\lib\\site-packages\\tensorflow\\python\\eager\\function.py\u001b[0m in \u001b[0;36m_define_function_with_shape_relaxation\u001b[1;34m(self, args, kwargs, flat_args, filtered_flat_args, cache_key_context)\u001b[0m\n\u001b[0;32m   3277\u001b[0m           expand_composites=True)\n\u001b[0;32m   3278\u001b[0m \u001b[1;33m\u001b[0m\u001b[0m\n\u001b[1;32m-> 3279\u001b[1;33m     graph_function = self._create_graph_function(\n\u001b[0m\u001b[0;32m   3280\u001b[0m         args, kwargs, override_flat_arg_shapes=relaxed_arg_shapes)\n\u001b[0;32m   3281\u001b[0m     \u001b[0mself\u001b[0m\u001b[1;33m.\u001b[0m\u001b[0m_function_cache\u001b[0m\u001b[1;33m.\u001b[0m\u001b[0marg_relaxed\u001b[0m\u001b[1;33m[\u001b[0m\u001b[0mrank_only_cache_key\u001b[0m\u001b[1;33m]\u001b[0m \u001b[1;33m=\u001b[0m \u001b[0mgraph_function\u001b[0m\u001b[1;33m\u001b[0m\u001b[1;33m\u001b[0m\u001b[0m\n",
            "\u001b[1;32m~\\AppData\\Local\\Programs\\Python\\Python38\\lib\\site-packages\\tensorflow\\python\\eager\\function.py\u001b[0m in \u001b[0;36m_create_graph_function\u001b[1;34m(self, args, kwargs, override_flat_arg_shapes)\u001b[0m\n\u001b[0;32m   3194\u001b[0m     \u001b[0marg_names\u001b[0m \u001b[1;33m=\u001b[0m \u001b[0mbase_arg_names\u001b[0m \u001b[1;33m+\u001b[0m \u001b[0mmissing_arg_names\u001b[0m\u001b[1;33m\u001b[0m\u001b[1;33m\u001b[0m\u001b[0m\n\u001b[0;32m   3195\u001b[0m     graph_function = ConcreteFunction(\n\u001b[1;32m-> 3196\u001b[1;33m         func_graph_module.func_graph_from_py_func(\n\u001b[0m\u001b[0;32m   3197\u001b[0m             \u001b[0mself\u001b[0m\u001b[1;33m.\u001b[0m\u001b[0m_name\u001b[0m\u001b[1;33m,\u001b[0m\u001b[1;33m\u001b[0m\u001b[1;33m\u001b[0m\u001b[0m\n\u001b[0;32m   3198\u001b[0m             \u001b[0mself\u001b[0m\u001b[1;33m.\u001b[0m\u001b[0m_python_function\u001b[0m\u001b[1;33m,\u001b[0m\u001b[1;33m\u001b[0m\u001b[1;33m\u001b[0m\u001b[0m\n",
            "\u001b[1;32m~\\AppData\\Local\\Programs\\Python\\Python38\\lib\\site-packages\\tensorflow\\python\\framework\\func_graph.py\u001b[0m in \u001b[0;36mfunc_graph_from_py_func\u001b[1;34m(name, python_func, args, kwargs, signature, func_graph, autograph, autograph_options, add_control_dependencies, arg_names, op_return_value, collections, capture_by_value, override_flat_arg_shapes)\u001b[0m\n\u001b[0;32m    988\u001b[0m         \u001b[0m_\u001b[0m\u001b[1;33m,\u001b[0m \u001b[0moriginal_func\u001b[0m \u001b[1;33m=\u001b[0m \u001b[0mtf_decorator\u001b[0m\u001b[1;33m.\u001b[0m\u001b[0munwrap\u001b[0m\u001b[1;33m(\u001b[0m\u001b[0mpython_func\u001b[0m\u001b[1;33m)\u001b[0m\u001b[1;33m\u001b[0m\u001b[1;33m\u001b[0m\u001b[0m\n\u001b[0;32m    989\u001b[0m \u001b[1;33m\u001b[0m\u001b[0m\n\u001b[1;32m--> 990\u001b[1;33m       \u001b[0mfunc_outputs\u001b[0m \u001b[1;33m=\u001b[0m \u001b[0mpython_func\u001b[0m\u001b[1;33m(\u001b[0m\u001b[1;33m*\u001b[0m\u001b[0mfunc_args\u001b[0m\u001b[1;33m,\u001b[0m \u001b[1;33m**\u001b[0m\u001b[0mfunc_kwargs\u001b[0m\u001b[1;33m)\u001b[0m\u001b[1;33m\u001b[0m\u001b[1;33m\u001b[0m\u001b[0m\n\u001b[0m\u001b[0;32m    991\u001b[0m \u001b[1;33m\u001b[0m\u001b[0m\n\u001b[0;32m    992\u001b[0m       \u001b[1;31m# invariant: `func_outputs` contains only Tensors, CompositeTensors,\u001b[0m\u001b[1;33m\u001b[0m\u001b[1;33m\u001b[0m\u001b[1;33m\u001b[0m\u001b[0m\n",
            "\u001b[1;32m~\\AppData\\Local\\Programs\\Python\\Python38\\lib\\site-packages\\tensorflow\\python\\eager\\def_function.py\u001b[0m in \u001b[0;36mwrapped_fn\u001b[1;34m(*args, **kwds)\u001b[0m\n\u001b[0;32m    632\u001b[0m             \u001b[0mxla_context\u001b[0m\u001b[1;33m.\u001b[0m\u001b[0mExit\u001b[0m\u001b[1;33m(\u001b[0m\u001b[1;33m)\u001b[0m\u001b[1;33m\u001b[0m\u001b[1;33m\u001b[0m\u001b[0m\n\u001b[0;32m    633\u001b[0m         \u001b[1;32melse\u001b[0m\u001b[1;33m:\u001b[0m\u001b[1;33m\u001b[0m\u001b[1;33m\u001b[0m\u001b[0m\n\u001b[1;32m--> 634\u001b[1;33m           \u001b[0mout\u001b[0m \u001b[1;33m=\u001b[0m \u001b[0mweak_wrapped_fn\u001b[0m\u001b[1;33m(\u001b[0m\u001b[1;33m)\u001b[0m\u001b[1;33m.\u001b[0m\u001b[0m__wrapped__\u001b[0m\u001b[1;33m(\u001b[0m\u001b[1;33m*\u001b[0m\u001b[0margs\u001b[0m\u001b[1;33m,\u001b[0m \u001b[1;33m**\u001b[0m\u001b[0mkwds\u001b[0m\u001b[1;33m)\u001b[0m\u001b[1;33m\u001b[0m\u001b[1;33m\u001b[0m\u001b[0m\n\u001b[0m\u001b[0;32m    635\u001b[0m         \u001b[1;32mreturn\u001b[0m \u001b[0mout\u001b[0m\u001b[1;33m\u001b[0m\u001b[1;33m\u001b[0m\u001b[0m\n\u001b[0;32m    636\u001b[0m \u001b[1;33m\u001b[0m\u001b[0m\n",
            "\u001b[1;32m~\\AppData\\Local\\Programs\\Python\\Python38\\lib\\site-packages\\tensorflow\\python\\framework\\func_graph.py\u001b[0m in \u001b[0;36mwrapper\u001b[1;34m(*args, **kwargs)\u001b[0m\n\u001b[0;32m    975\u001b[0m           \u001b[1;32mexcept\u001b[0m \u001b[0mException\u001b[0m \u001b[1;32mas\u001b[0m \u001b[0me\u001b[0m\u001b[1;33m:\u001b[0m  \u001b[1;31m# pylint:disable=broad-except\u001b[0m\u001b[1;33m\u001b[0m\u001b[1;33m\u001b[0m\u001b[0m\n\u001b[0;32m    976\u001b[0m             \u001b[1;32mif\u001b[0m \u001b[0mhasattr\u001b[0m\u001b[1;33m(\u001b[0m\u001b[0me\u001b[0m\u001b[1;33m,\u001b[0m \u001b[1;34m\"ag_error_metadata\"\u001b[0m\u001b[1;33m)\u001b[0m\u001b[1;33m:\u001b[0m\u001b[1;33m\u001b[0m\u001b[1;33m\u001b[0m\u001b[0m\n\u001b[1;32m--> 977\u001b[1;33m               \u001b[1;32mraise\u001b[0m \u001b[0me\u001b[0m\u001b[1;33m.\u001b[0m\u001b[0mag_error_metadata\u001b[0m\u001b[1;33m.\u001b[0m\u001b[0mto_exception\u001b[0m\u001b[1;33m(\u001b[0m\u001b[0me\u001b[0m\u001b[1;33m)\u001b[0m\u001b[1;33m\u001b[0m\u001b[1;33m\u001b[0m\u001b[0m\n\u001b[0m\u001b[0;32m    978\u001b[0m             \u001b[1;32melse\u001b[0m\u001b[1;33m:\u001b[0m\u001b[1;33m\u001b[0m\u001b[1;33m\u001b[0m\u001b[0m\n\u001b[0;32m    979\u001b[0m               \u001b[1;32mraise\u001b[0m\u001b[1;33m\u001b[0m\u001b[1;33m\u001b[0m\u001b[0m\n",
            "\u001b[1;31mValueError\u001b[0m: in user code:\n\n    C:\\Users\\notif\\AppData\\Local\\Programs\\Python\\Python38\\lib\\site-packages\\tensorflow\\python\\keras\\engine\\training.py:1478 predict_function  *\n        return step_function(self, iterator)\n    C:\\Users\\notif\\AppData\\Local\\Programs\\Python\\Python38\\lib\\site-packages\\tensorflow\\python\\keras\\engine\\training.py:1468 step_function  **\n        outputs = model.distribute_strategy.run(run_step, args=(data,))\n    C:\\Users\\notif\\AppData\\Local\\Programs\\Python\\Python38\\lib\\site-packages\\tensorflow\\python\\distribute\\distribute_lib.py:1259 run\n        return self._extended.call_for_each_replica(fn, args=args, kwargs=kwargs)\n    C:\\Users\\notif\\AppData\\Local\\Programs\\Python\\Python38\\lib\\site-packages\\tensorflow\\python\\distribute\\distribute_lib.py:2730 call_for_each_replica\n        return self._call_for_each_replica(fn, args, kwargs)\n    C:\\Users\\notif\\AppData\\Local\\Programs\\Python\\Python38\\lib\\site-packages\\tensorflow\\python\\distribute\\distribute_lib.py:3417 _call_for_each_replica\n        return fn(*args, **kwargs)\n    C:\\Users\\notif\\AppData\\Local\\Programs\\Python\\Python38\\lib\\site-packages\\tensorflow\\python\\keras\\engine\\training.py:1461 run_step  **\n        outputs = model.predict_step(data)\n    C:\\Users\\notif\\AppData\\Local\\Programs\\Python\\Python38\\lib\\site-packages\\tensorflow\\python\\keras\\engine\\training.py:1434 predict_step\n        return self(x, training=False)\n    C:\\Users\\notif\\AppData\\Local\\Programs\\Python\\Python38\\lib\\site-packages\\tensorflow\\python\\keras\\engine\\base_layer.py:1012 __call__\n        outputs = call_fn(inputs, *args, **kwargs)\n    C:\\Users\\notif\\AppData\\Local\\Programs\\Python\\Python38\\lib\\site-packages\\tensorflow\\python\\keras\\engine\\sequential.py:375 call\n        return super(Sequential, self).call(inputs, training=training, mask=mask)\n    C:\\Users\\notif\\AppData\\Local\\Programs\\Python\\Python38\\lib\\site-packages\\tensorflow\\python\\keras\\engine\\functional.py:424 call\n        return self._run_internal_graph(\n    C:\\Users\\notif\\AppData\\Local\\Programs\\Python\\Python38\\lib\\site-packages\\tensorflow\\python\\keras\\engine\\functional.py:560 _run_internal_graph\n        outputs = node.layer(*args, **kwargs)\n    C:\\Users\\notif\\AppData\\Local\\Programs\\Python\\Python38\\lib\\site-packages\\tensorflow\\python\\keras\\engine\\base_layer.py:998 __call__\n        input_spec.assert_input_compatibility(self.input_spec, inputs, self.name)\n    C:\\Users\\notif\\AppData\\Local\\Programs\\Python\\Python38\\lib\\site-packages\\tensorflow\\python\\keras\\engine\\input_spec.py:255 assert_input_compatibility\n        raise ValueError(\n\n    ValueError: Input 0 of layer dense_2 is incompatible with the layer: expected axis -1 of input shape to have value 784 but received input with shape (None, 1)\n"
          ]
        }
      ],
      "source": [
        "model_l.predict(test_images[0].reshape(784))\n",
        "# print(test_images[0].shape)"
      ]
    },
    {
      "cell_type": "code",
      "execution_count": null,
      "metadata": {},
      "outputs": [],
      "source": []
    }
  ]
}